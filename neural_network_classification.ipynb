{
  "nbformat": 4,
  "nbformat_minor": 0,
  "metadata": {
    "colab": {
      "provenance": [],
      "authorship_tag": "ABX9TyNSmwHMO7FDYOFxAxcibCkl",
      "include_colab_link": true
    },
    "kernelspec": {
      "name": "python3",
      "display_name": "Python 3"
    },
    "language_info": {
      "name": "python"
    }
  },
  "cells": [
    {
      "cell_type": "markdown",
      "metadata": {
        "id": "view-in-github",
        "colab_type": "text"
      },
      "source": [
        "<a href=\"https://colab.research.google.com/github/saishshinde15/TensorFlow/blob/main/neural_network_classification.ipynb\" target=\"_parent\"><img src=\"https://colab.research.google.com/assets/colab-badge.svg\" alt=\"Open In Colab\"/></a>"
      ]
    },
    {
      "cell_type": "code",
      "execution_count": 1,
      "metadata": {
        "id": "hDLGRn-EQ8Za"
      },
      "outputs": [],
      "source": [
        "import numpy as np\n",
        "import pandas as pd\n",
        "import matplotlib.pyplot as plt\n",
        "import seaborn as sns\n"
      ]
    },
    {
      "cell_type": "code",
      "source": [
        "import tensorflow as tf"
      ],
      "metadata": {
        "id": "dTrBswXMREN1"
      },
      "execution_count": 7,
      "outputs": []
    },
    {
      "cell_type": "code",
      "source": [
        "tf.__version__"
      ],
      "metadata": {
        "colab": {
          "base_uri": "https://localhost:8080/",
          "height": 35
        },
        "id": "7BRjBbAlRIB5",
        "outputId": "717b9fb9-9102-4f6f-a156-2fa64ca8bd86"
      },
      "execution_count": 9,
      "outputs": [
        {
          "output_type": "execute_result",
          "data": {
            "text/plain": [
              "'2.15.0'"
            ],
            "application/vnd.google.colaboratory.intrinsic+json": {
              "type": "string"
            }
          },
          "metadata": {},
          "execution_count": 9
        }
      ]
    },
    {
      "cell_type": "code",
      "source": [
        "dataset=pd.read_csv('Heart Attack.csv')"
      ],
      "metadata": {
        "id": "THjk896oRJ6T"
      },
      "execution_count": 10,
      "outputs": []
    },
    {
      "cell_type": "code",
      "source": [
        "dataset"
      ],
      "metadata": {
        "colab": {
          "base_uri": "https://localhost:8080/",
          "height": 419
        },
        "id": "HrzNaWePRgQf",
        "outputId": "b10fd51c-f698-454e-f59a-33be143316f9"
      },
      "execution_count": 11,
      "outputs": [
        {
          "output_type": "execute_result",
          "data": {
            "text/plain": [
              "      age  gender  impluse  pressurehight  pressurelow  glucose    kcm  \\\n",
              "0      64       1       66            160           83    160.0   1.80   \n",
              "1      21       1       94             98           46    296.0   6.75   \n",
              "2      55       1       64            160           77    270.0   1.99   \n",
              "3      64       1       70            120           55    270.0  13.87   \n",
              "4      55       1       64            112           65    300.0   1.08   \n",
              "...   ...     ...      ...            ...          ...      ...    ...   \n",
              "1314   44       1       94            122           67    204.0   1.63   \n",
              "1315   66       1       84            125           55    149.0   1.33   \n",
              "1316   45       1       85            168          104     96.0   1.24   \n",
              "1317   54       1       58            117           68    443.0   5.80   \n",
              "1318   51       1       94            157           79    134.0  50.89   \n",
              "\n",
              "      troponin     class  \n",
              "0        0.012  negative  \n",
              "1        1.060  positive  \n",
              "2        0.003  negative  \n",
              "3        0.122  positive  \n",
              "4        0.003  negative  \n",
              "...        ...       ...  \n",
              "1314     0.006  negative  \n",
              "1315     0.172  positive  \n",
              "1316     4.250  positive  \n",
              "1317     0.359  positive  \n",
              "1318     1.770  positive  \n",
              "\n",
              "[1319 rows x 9 columns]"
            ],
            "text/html": [
              "\n",
              "  <div id=\"df-34b919d7-8a76-45da-9b3f-3a258718d650\" class=\"colab-df-container\">\n",
              "    <div>\n",
              "<style scoped>\n",
              "    .dataframe tbody tr th:only-of-type {\n",
              "        vertical-align: middle;\n",
              "    }\n",
              "\n",
              "    .dataframe tbody tr th {\n",
              "        vertical-align: top;\n",
              "    }\n",
              "\n",
              "    .dataframe thead th {\n",
              "        text-align: right;\n",
              "    }\n",
              "</style>\n",
              "<table border=\"1\" class=\"dataframe\">\n",
              "  <thead>\n",
              "    <tr style=\"text-align: right;\">\n",
              "      <th></th>\n",
              "      <th>age</th>\n",
              "      <th>gender</th>\n",
              "      <th>impluse</th>\n",
              "      <th>pressurehight</th>\n",
              "      <th>pressurelow</th>\n",
              "      <th>glucose</th>\n",
              "      <th>kcm</th>\n",
              "      <th>troponin</th>\n",
              "      <th>class</th>\n",
              "    </tr>\n",
              "  </thead>\n",
              "  <tbody>\n",
              "    <tr>\n",
              "      <th>0</th>\n",
              "      <td>64</td>\n",
              "      <td>1</td>\n",
              "      <td>66</td>\n",
              "      <td>160</td>\n",
              "      <td>83</td>\n",
              "      <td>160.0</td>\n",
              "      <td>1.80</td>\n",
              "      <td>0.012</td>\n",
              "      <td>negative</td>\n",
              "    </tr>\n",
              "    <tr>\n",
              "      <th>1</th>\n",
              "      <td>21</td>\n",
              "      <td>1</td>\n",
              "      <td>94</td>\n",
              "      <td>98</td>\n",
              "      <td>46</td>\n",
              "      <td>296.0</td>\n",
              "      <td>6.75</td>\n",
              "      <td>1.060</td>\n",
              "      <td>positive</td>\n",
              "    </tr>\n",
              "    <tr>\n",
              "      <th>2</th>\n",
              "      <td>55</td>\n",
              "      <td>1</td>\n",
              "      <td>64</td>\n",
              "      <td>160</td>\n",
              "      <td>77</td>\n",
              "      <td>270.0</td>\n",
              "      <td>1.99</td>\n",
              "      <td>0.003</td>\n",
              "      <td>negative</td>\n",
              "    </tr>\n",
              "    <tr>\n",
              "      <th>3</th>\n",
              "      <td>64</td>\n",
              "      <td>1</td>\n",
              "      <td>70</td>\n",
              "      <td>120</td>\n",
              "      <td>55</td>\n",
              "      <td>270.0</td>\n",
              "      <td>13.87</td>\n",
              "      <td>0.122</td>\n",
              "      <td>positive</td>\n",
              "    </tr>\n",
              "    <tr>\n",
              "      <th>4</th>\n",
              "      <td>55</td>\n",
              "      <td>1</td>\n",
              "      <td>64</td>\n",
              "      <td>112</td>\n",
              "      <td>65</td>\n",
              "      <td>300.0</td>\n",
              "      <td>1.08</td>\n",
              "      <td>0.003</td>\n",
              "      <td>negative</td>\n",
              "    </tr>\n",
              "    <tr>\n",
              "      <th>...</th>\n",
              "      <td>...</td>\n",
              "      <td>...</td>\n",
              "      <td>...</td>\n",
              "      <td>...</td>\n",
              "      <td>...</td>\n",
              "      <td>...</td>\n",
              "      <td>...</td>\n",
              "      <td>...</td>\n",
              "      <td>...</td>\n",
              "    </tr>\n",
              "    <tr>\n",
              "      <th>1314</th>\n",
              "      <td>44</td>\n",
              "      <td>1</td>\n",
              "      <td>94</td>\n",
              "      <td>122</td>\n",
              "      <td>67</td>\n",
              "      <td>204.0</td>\n",
              "      <td>1.63</td>\n",
              "      <td>0.006</td>\n",
              "      <td>negative</td>\n",
              "    </tr>\n",
              "    <tr>\n",
              "      <th>1315</th>\n",
              "      <td>66</td>\n",
              "      <td>1</td>\n",
              "      <td>84</td>\n",
              "      <td>125</td>\n",
              "      <td>55</td>\n",
              "      <td>149.0</td>\n",
              "      <td>1.33</td>\n",
              "      <td>0.172</td>\n",
              "      <td>positive</td>\n",
              "    </tr>\n",
              "    <tr>\n",
              "      <th>1316</th>\n",
              "      <td>45</td>\n",
              "      <td>1</td>\n",
              "      <td>85</td>\n",
              "      <td>168</td>\n",
              "      <td>104</td>\n",
              "      <td>96.0</td>\n",
              "      <td>1.24</td>\n",
              "      <td>4.250</td>\n",
              "      <td>positive</td>\n",
              "    </tr>\n",
              "    <tr>\n",
              "      <th>1317</th>\n",
              "      <td>54</td>\n",
              "      <td>1</td>\n",
              "      <td>58</td>\n",
              "      <td>117</td>\n",
              "      <td>68</td>\n",
              "      <td>443.0</td>\n",
              "      <td>5.80</td>\n",
              "      <td>0.359</td>\n",
              "      <td>positive</td>\n",
              "    </tr>\n",
              "    <tr>\n",
              "      <th>1318</th>\n",
              "      <td>51</td>\n",
              "      <td>1</td>\n",
              "      <td>94</td>\n",
              "      <td>157</td>\n",
              "      <td>79</td>\n",
              "      <td>134.0</td>\n",
              "      <td>50.89</td>\n",
              "      <td>1.770</td>\n",
              "      <td>positive</td>\n",
              "    </tr>\n",
              "  </tbody>\n",
              "</table>\n",
              "<p>1319 rows × 9 columns</p>\n",
              "</div>\n",
              "    <div class=\"colab-df-buttons\">\n",
              "\n",
              "  <div class=\"colab-df-container\">\n",
              "    <button class=\"colab-df-convert\" onclick=\"convertToInteractive('df-34b919d7-8a76-45da-9b3f-3a258718d650')\"\n",
              "            title=\"Convert this dataframe to an interactive table.\"\n",
              "            style=\"display:none;\">\n",
              "\n",
              "  <svg xmlns=\"http://www.w3.org/2000/svg\" height=\"24px\" viewBox=\"0 -960 960 960\">\n",
              "    <path d=\"M120-120v-720h720v720H120Zm60-500h600v-160H180v160Zm220 220h160v-160H400v160Zm0 220h160v-160H400v160ZM180-400h160v-160H180v160Zm440 0h160v-160H620v160ZM180-180h160v-160H180v160Zm440 0h160v-160H620v160Z\"/>\n",
              "  </svg>\n",
              "    </button>\n",
              "\n",
              "  <style>\n",
              "    .colab-df-container {\n",
              "      display:flex;\n",
              "      gap: 12px;\n",
              "    }\n",
              "\n",
              "    .colab-df-convert {\n",
              "      background-color: #E8F0FE;\n",
              "      border: none;\n",
              "      border-radius: 50%;\n",
              "      cursor: pointer;\n",
              "      display: none;\n",
              "      fill: #1967D2;\n",
              "      height: 32px;\n",
              "      padding: 0 0 0 0;\n",
              "      width: 32px;\n",
              "    }\n",
              "\n",
              "    .colab-df-convert:hover {\n",
              "      background-color: #E2EBFA;\n",
              "      box-shadow: 0px 1px 2px rgba(60, 64, 67, 0.3), 0px 1px 3px 1px rgba(60, 64, 67, 0.15);\n",
              "      fill: #174EA6;\n",
              "    }\n",
              "\n",
              "    .colab-df-buttons div {\n",
              "      margin-bottom: 4px;\n",
              "    }\n",
              "\n",
              "    [theme=dark] .colab-df-convert {\n",
              "      background-color: #3B4455;\n",
              "      fill: #D2E3FC;\n",
              "    }\n",
              "\n",
              "    [theme=dark] .colab-df-convert:hover {\n",
              "      background-color: #434B5C;\n",
              "      box-shadow: 0px 1px 3px 1px rgba(0, 0, 0, 0.15);\n",
              "      filter: drop-shadow(0px 1px 2px rgba(0, 0, 0, 0.3));\n",
              "      fill: #FFFFFF;\n",
              "    }\n",
              "  </style>\n",
              "\n",
              "    <script>\n",
              "      const buttonEl =\n",
              "        document.querySelector('#df-34b919d7-8a76-45da-9b3f-3a258718d650 button.colab-df-convert');\n",
              "      buttonEl.style.display =\n",
              "        google.colab.kernel.accessAllowed ? 'block' : 'none';\n",
              "\n",
              "      async function convertToInteractive(key) {\n",
              "        const element = document.querySelector('#df-34b919d7-8a76-45da-9b3f-3a258718d650');\n",
              "        const dataTable =\n",
              "          await google.colab.kernel.invokeFunction('convertToInteractive',\n",
              "                                                    [key], {});\n",
              "        if (!dataTable) return;\n",
              "\n",
              "        const docLinkHtml = 'Like what you see? Visit the ' +\n",
              "          '<a target=\"_blank\" href=https://colab.research.google.com/notebooks/data_table.ipynb>data table notebook</a>'\n",
              "          + ' to learn more about interactive tables.';\n",
              "        element.innerHTML = '';\n",
              "        dataTable['output_type'] = 'display_data';\n",
              "        await google.colab.output.renderOutput(dataTable, element);\n",
              "        const docLink = document.createElement('div');\n",
              "        docLink.innerHTML = docLinkHtml;\n",
              "        element.appendChild(docLink);\n",
              "      }\n",
              "    </script>\n",
              "  </div>\n",
              "\n",
              "\n",
              "<div id=\"df-023f568e-a9df-4eec-945e-f5a1d83e7e8a\">\n",
              "  <button class=\"colab-df-quickchart\" onclick=\"quickchart('df-023f568e-a9df-4eec-945e-f5a1d83e7e8a')\"\n",
              "            title=\"Suggest charts\"\n",
              "            style=\"display:none;\">\n",
              "\n",
              "<svg xmlns=\"http://www.w3.org/2000/svg\" height=\"24px\"viewBox=\"0 0 24 24\"\n",
              "     width=\"24px\">\n",
              "    <g>\n",
              "        <path d=\"M19 3H5c-1.1 0-2 .9-2 2v14c0 1.1.9 2 2 2h14c1.1 0 2-.9 2-2V5c0-1.1-.9-2-2-2zM9 17H7v-7h2v7zm4 0h-2V7h2v10zm4 0h-2v-4h2v4z\"/>\n",
              "    </g>\n",
              "</svg>\n",
              "  </button>\n",
              "\n",
              "<style>\n",
              "  .colab-df-quickchart {\n",
              "      --bg-color: #E8F0FE;\n",
              "      --fill-color: #1967D2;\n",
              "      --hover-bg-color: #E2EBFA;\n",
              "      --hover-fill-color: #174EA6;\n",
              "      --disabled-fill-color: #AAA;\n",
              "      --disabled-bg-color: #DDD;\n",
              "  }\n",
              "\n",
              "  [theme=dark] .colab-df-quickchart {\n",
              "      --bg-color: #3B4455;\n",
              "      --fill-color: #D2E3FC;\n",
              "      --hover-bg-color: #434B5C;\n",
              "      --hover-fill-color: #FFFFFF;\n",
              "      --disabled-bg-color: #3B4455;\n",
              "      --disabled-fill-color: #666;\n",
              "  }\n",
              "\n",
              "  .colab-df-quickchart {\n",
              "    background-color: var(--bg-color);\n",
              "    border: none;\n",
              "    border-radius: 50%;\n",
              "    cursor: pointer;\n",
              "    display: none;\n",
              "    fill: var(--fill-color);\n",
              "    height: 32px;\n",
              "    padding: 0;\n",
              "    width: 32px;\n",
              "  }\n",
              "\n",
              "  .colab-df-quickchart:hover {\n",
              "    background-color: var(--hover-bg-color);\n",
              "    box-shadow: 0 1px 2px rgba(60, 64, 67, 0.3), 0 1px 3px 1px rgba(60, 64, 67, 0.15);\n",
              "    fill: var(--button-hover-fill-color);\n",
              "  }\n",
              "\n",
              "  .colab-df-quickchart-complete:disabled,\n",
              "  .colab-df-quickchart-complete:disabled:hover {\n",
              "    background-color: var(--disabled-bg-color);\n",
              "    fill: var(--disabled-fill-color);\n",
              "    box-shadow: none;\n",
              "  }\n",
              "\n",
              "  .colab-df-spinner {\n",
              "    border: 2px solid var(--fill-color);\n",
              "    border-color: transparent;\n",
              "    border-bottom-color: var(--fill-color);\n",
              "    animation:\n",
              "      spin 1s steps(1) infinite;\n",
              "  }\n",
              "\n",
              "  @keyframes spin {\n",
              "    0% {\n",
              "      border-color: transparent;\n",
              "      border-bottom-color: var(--fill-color);\n",
              "      border-left-color: var(--fill-color);\n",
              "    }\n",
              "    20% {\n",
              "      border-color: transparent;\n",
              "      border-left-color: var(--fill-color);\n",
              "      border-top-color: var(--fill-color);\n",
              "    }\n",
              "    30% {\n",
              "      border-color: transparent;\n",
              "      border-left-color: var(--fill-color);\n",
              "      border-top-color: var(--fill-color);\n",
              "      border-right-color: var(--fill-color);\n",
              "    }\n",
              "    40% {\n",
              "      border-color: transparent;\n",
              "      border-right-color: var(--fill-color);\n",
              "      border-top-color: var(--fill-color);\n",
              "    }\n",
              "    60% {\n",
              "      border-color: transparent;\n",
              "      border-right-color: var(--fill-color);\n",
              "    }\n",
              "    80% {\n",
              "      border-color: transparent;\n",
              "      border-right-color: var(--fill-color);\n",
              "      border-bottom-color: var(--fill-color);\n",
              "    }\n",
              "    90% {\n",
              "      border-color: transparent;\n",
              "      border-bottom-color: var(--fill-color);\n",
              "    }\n",
              "  }\n",
              "</style>\n",
              "\n",
              "  <script>\n",
              "    async function quickchart(key) {\n",
              "      const quickchartButtonEl =\n",
              "        document.querySelector('#' + key + ' button');\n",
              "      quickchartButtonEl.disabled = true;  // To prevent multiple clicks.\n",
              "      quickchartButtonEl.classList.add('colab-df-spinner');\n",
              "      try {\n",
              "        const charts = await google.colab.kernel.invokeFunction(\n",
              "            'suggestCharts', [key], {});\n",
              "      } catch (error) {\n",
              "        console.error('Error during call to suggestCharts:', error);\n",
              "      }\n",
              "      quickchartButtonEl.classList.remove('colab-df-spinner');\n",
              "      quickchartButtonEl.classList.add('colab-df-quickchart-complete');\n",
              "    }\n",
              "    (() => {\n",
              "      let quickchartButtonEl =\n",
              "        document.querySelector('#df-023f568e-a9df-4eec-945e-f5a1d83e7e8a button');\n",
              "      quickchartButtonEl.style.display =\n",
              "        google.colab.kernel.accessAllowed ? 'block' : 'none';\n",
              "    })();\n",
              "  </script>\n",
              "</div>\n",
              "\n",
              "  <div id=\"id_36ba4bbe-4629-459b-8127-625313b09454\">\n",
              "    <style>\n",
              "      .colab-df-generate {\n",
              "        background-color: #E8F0FE;\n",
              "        border: none;\n",
              "        border-radius: 50%;\n",
              "        cursor: pointer;\n",
              "        display: none;\n",
              "        fill: #1967D2;\n",
              "        height: 32px;\n",
              "        padding: 0 0 0 0;\n",
              "        width: 32px;\n",
              "      }\n",
              "\n",
              "      .colab-df-generate:hover {\n",
              "        background-color: #E2EBFA;\n",
              "        box-shadow: 0px 1px 2px rgba(60, 64, 67, 0.3), 0px 1px 3px 1px rgba(60, 64, 67, 0.15);\n",
              "        fill: #174EA6;\n",
              "      }\n",
              "\n",
              "      [theme=dark] .colab-df-generate {\n",
              "        background-color: #3B4455;\n",
              "        fill: #D2E3FC;\n",
              "      }\n",
              "\n",
              "      [theme=dark] .colab-df-generate:hover {\n",
              "        background-color: #434B5C;\n",
              "        box-shadow: 0px 1px 3px 1px rgba(0, 0, 0, 0.15);\n",
              "        filter: drop-shadow(0px 1px 2px rgba(0, 0, 0, 0.3));\n",
              "        fill: #FFFFFF;\n",
              "      }\n",
              "    </style>\n",
              "    <button class=\"colab-df-generate\" onclick=\"generateWithVariable('dataset')\"\n",
              "            title=\"Generate code using this dataframe.\"\n",
              "            style=\"display:none;\">\n",
              "\n",
              "  <svg xmlns=\"http://www.w3.org/2000/svg\" height=\"24px\"viewBox=\"0 0 24 24\"\n",
              "       width=\"24px\">\n",
              "    <path d=\"M7,19H8.4L18.45,9,17,7.55,7,17.6ZM5,21V16.75L18.45,3.32a2,2,0,0,1,2.83,0l1.4,1.43a1.91,1.91,0,0,1,.58,1.4,1.91,1.91,0,0,1-.58,1.4L9.25,21ZM18.45,9,17,7.55Zm-12,3A5.31,5.31,0,0,0,4.9,8.1,5.31,5.31,0,0,0,1,6.5,5.31,5.31,0,0,0,4.9,4.9,5.31,5.31,0,0,0,6.5,1,5.31,5.31,0,0,0,8.1,4.9,5.31,5.31,0,0,0,12,6.5,5.46,5.46,0,0,0,6.5,12Z\"/>\n",
              "  </svg>\n",
              "    </button>\n",
              "    <script>\n",
              "      (() => {\n",
              "      const buttonEl =\n",
              "        document.querySelector('#id_36ba4bbe-4629-459b-8127-625313b09454 button.colab-df-generate');\n",
              "      buttonEl.style.display =\n",
              "        google.colab.kernel.accessAllowed ? 'block' : 'none';\n",
              "\n",
              "      buttonEl.onclick = () => {\n",
              "        google.colab.notebook.generateWithVariable('dataset');\n",
              "      }\n",
              "      })();\n",
              "    </script>\n",
              "  </div>\n",
              "\n",
              "    </div>\n",
              "  </div>\n"
            ],
            "application/vnd.google.colaboratory.intrinsic+json": {
              "type": "dataframe",
              "variable_name": "dataset",
              "summary": "{\n  \"name\": \"dataset\",\n  \"rows\": 1319,\n  \"fields\": [\n    {\n      \"column\": \"age\",\n      \"properties\": {\n        \"dtype\": \"number\",\n        \"std\": 13,\n        \"min\": 14,\n        \"max\": 103,\n        \"samples\": [\n          32,\n          81,\n          61\n        ],\n        \"num_unique_values\": 75,\n        \"semantic_type\": \"\",\n        \"description\": \"\"\n      }\n    },\n    {\n      \"column\": \"gender\",\n      \"properties\": {\n        \"dtype\": \"number\",\n        \"std\": 0,\n        \"min\": 0,\n        \"max\": 1,\n        \"samples\": [\n          0,\n          1\n        ],\n        \"num_unique_values\": 2,\n        \"semantic_type\": \"\",\n        \"description\": \"\"\n      }\n    },\n    {\n      \"column\": \"impluse\",\n      \"properties\": {\n        \"dtype\": \"number\",\n        \"std\": 51,\n        \"min\": 20,\n        \"max\": 1111,\n        \"samples\": [\n          59,\n          66\n        ],\n        \"num_unique_values\": 79,\n        \"semantic_type\": \"\",\n        \"description\": \"\"\n      }\n    },\n    {\n      \"column\": \"pressurehight\",\n      \"properties\": {\n        \"dtype\": \"number\",\n        \"std\": 26,\n        \"min\": 42,\n        \"max\": 223,\n        \"samples\": [\n          93,\n          179\n        ],\n        \"num_unique_values\": 116,\n        \"semantic_type\": \"\",\n        \"description\": \"\"\n      }\n    },\n    {\n      \"column\": \"pressurelow\",\n      \"properties\": {\n        \"dtype\": \"number\",\n        \"std\": 14,\n        \"min\": 38,\n        \"max\": 154,\n        \"samples\": [\n          65,\n          41\n        ],\n        \"num_unique_values\": 73,\n        \"semantic_type\": \"\",\n        \"description\": \"\"\n      }\n    },\n    {\n      \"column\": \"glucose\",\n      \"properties\": {\n        \"dtype\": \"number\",\n        \"std\": 74.92304465780165,\n        \"min\": 35.0,\n        \"max\": 541.0,\n        \"samples\": [\n          166.0,\n          135.0\n        ],\n        \"num_unique_values\": 244,\n        \"semantic_type\": \"\",\n        \"description\": \"\"\n      }\n    },\n    {\n      \"column\": \"kcm\",\n      \"properties\": {\n        \"dtype\": \"number\",\n        \"std\": 46.32708334398736,\n        \"min\": 0.321,\n        \"max\": 300.0,\n        \"samples\": [\n          286.9,\n          0.457\n        ],\n        \"num_unique_values\": 700,\n        \"semantic_type\": \"\",\n        \"description\": \"\"\n      }\n    },\n    {\n      \"column\": \"troponin\",\n      \"properties\": {\n        \"dtype\": \"number\",\n        \"std\": 1.1545676649221812,\n        \"min\": 0.001,\n        \"max\": 10.3,\n        \"samples\": [\n          1.44,\n          0.431\n        ],\n        \"num_unique_values\": 352,\n        \"semantic_type\": \"\",\n        \"description\": \"\"\n      }\n    },\n    {\n      \"column\": \"class\",\n      \"properties\": {\n        \"dtype\": \"category\",\n        \"samples\": [\n          \"positive\",\n          \"negative\"\n        ],\n        \"num_unique_values\": 2,\n        \"semantic_type\": \"\",\n        \"description\": \"\"\n      }\n    }\n  ]\n}"
            }
          },
          "metadata": {},
          "execution_count": 11
        }
      ]
    },
    {
      "source": [
        "# @title class vs age\n",
        "\n",
        "from matplotlib import pyplot as plt\n",
        "import seaborn as sns\n",
        "figsize = (12, 1.2 * len(dataset['class'].unique()))\n",
        "plt.figure(figsize=figsize)\n",
        "sns.violinplot(dataset, x='age', y='class', inner='box', palette='Dark2')\n",
        "sns.despine(top=True, right=True, bottom=True, left=True)"
      ],
      "cell_type": "code",
      "execution_count": 15,
      "outputs": [
        {
          "output_type": "stream",
          "name": "stderr",
          "text": [
            "<ipython-input-15-6a52b7e807f1>:7: FutureWarning: \n",
            "\n",
            "Passing `palette` without assigning `hue` is deprecated and will be removed in v0.14.0. Assign the `y` variable to `hue` and set `legend=False` for the same effect.\n",
            "\n",
            "  sns.violinplot(dataset, x='age', y='class', inner='box', palette='Dark2')\n"
          ]
        },
        {
          "output_type": "display_data",
          "data": {
            "text/plain": [
              "<Figure size 1200x240 with 1 Axes>"
            ],
            "image/png": "[encoded data removed]"
          },
          "metadata": {}
        }
      ],
      "metadata": {
        "colab": {
          "base_uri": "https://localhost:8080/",
          "height": 364
        },
        "id": "2ZYqlNUAR0o2",
        "outputId": "b2da31b1-ae35-48aa-c8b7-22073a26be6e"
      }
    },
    {
      "source": [
        "# @title class\n",
        "\n",
        "from matplotlib import pyplot as plt\n",
        "import seaborn as sns\n",
        "dataset.groupby('class').size().plot(kind='barh', color=sns.palettes.mpl_palette('Dark2'))\n",
        "plt.gca().spines[['top', 'right',]].set_visible(False)"
      ],
      "cell_type": "code",
      "execution_count": 13,
      "outputs": [
        {
          "output_type": "display_data",
          "data": {
            "text/plain": [
              "<Figure size 640x480 with 1 Axes>"
            ],
            "image/png": "[encoded data removed]"
          },
          "metadata": {}
        }
      ],
      "metadata": {
        "colab": {
          "base_uri": "https://localhost:8080/",
          "height": 430
        },
        "id": "-t3VxMV6Rnwb",
        "outputId": "8232621d-441f-4eae-9191-7f9d0184cdc6"
      }
    },
    {
      "cell_type": "code",
      "source": [
        "dataset.info()"
      ],
      "metadata": {
        "colab": {
          "base_uri": "https://localhost:8080/"
        },
        "id": "A7s6ctUzRhlk",
        "outputId": "e8b83fce-17ec-42b5-e104-9a9188fa6bff"
      },
      "execution_count": 16,
      "outputs": [
        {
          "output_type": "stream",
          "name": "stdout",
          "text": [
            "<class 'pandas.core.frame.DataFrame'>\n",
            "RangeIndex: 1319 entries, 0 to 1318\n",
            "Data columns (total 9 columns):\n",
            " #   Column         Non-Null Count  Dtype  \n",
            "---  ------         --------------  -----  \n",
            " 0   age            1319 non-null   int64  \n",
            " 1   gender         1319 non-null   int64  \n",
            " 2   impluse        1319 non-null   int64  \n",
            " 3   pressurehight  1319 non-null   int64  \n",
            " 4   pressurelow    1319 non-null   int64  \n",
            " 5   glucose        1319 non-null   float64\n",
            " 6   kcm            1319 non-null   float64\n",
            " 7   troponin       1319 non-null   float64\n",
            " 8   class          1319 non-null   object \n",
            "dtypes: float64(3), int64(5), object(1)\n",
            "memory usage: 92.9+ KB\n"
          ]
        }
      ]
    },
    {
      "cell_type": "code",
      "source": [
        "dataset.isnull().sum()"
      ],
      "metadata": {
        "colab": {
          "base_uri": "https://localhost:8080/"
        },
        "id": "edgK7f6AR74E",
        "outputId": "b3559294-11ea-4271-8954-cb40c14853c2"
      },
      "execution_count": 17,
      "outputs": [
        {
          "output_type": "execute_result",
          "data": {
            "text/plain": [
              "age              0\n",
              "gender           0\n",
              "impluse          0\n",
              "pressurehight    0\n",
              "pressurelow      0\n",
              "glucose          0\n",
              "kcm              0\n",
              "troponin         0\n",
              "class            0\n",
              "dtype: int64"
            ]
          },
          "metadata": {},
          "execution_count": 17
        }
      ]
    },
    {
      "cell_type": "code",
      "source": [
        "sns.heatmap(dataset.corr())"
      ],
      "metadata": {
        "colab": {
          "base_uri": "https://localhost:8080/",
          "height": 588
        },
        "id": "l2M640LyR-Bj",
        "outputId": "64819cec-a0ea-4014-b4a8-518fa4fae3d8"
      },
      "execution_count": 18,
      "outputs": [
        {
          "output_type": "stream",
          "name": "stderr",
          "text": [
            "<ipython-input-18-aa6664222663>:1: FutureWarning: The default value of numeric_only in DataFrame.corr is deprecated. In a future version, it will default to False. Select only valid columns or specify the value of numeric_only to silence this warning.\n",
            "  sns.heatmap(dataset.corr())\n"
          ]
        },
        {
          "output_type": "execute_result",
          "data": {
            "text/plain": [
              "<Axes: >"
            ]
          },
          "metadata": {},
          "execution_count": 18
        },
        {
          "output_type": "display_data",
          "data": {
            "text/plain": [
              "<Figure size 640x480 with 2 Axes>"
            ],
            "image/png": "[encoded data removed]"
          },
          "metadata": {}
        }
      ]
    },
    {
      "cell_type": "code",
      "source": [
        "dataset"
      ],
      "metadata": {
        "colab": {
          "base_uri": "https://localhost:8080/",
          "height": 419
        },
        "id": "_6BdVGEiSBnV",
        "outputId": "145c2fbb-5140-42a5-dff6-26268b8fceda"
      },
      "execution_count": 19,
      "outputs": [
        {
          "output_type": "execute_result",
          "data": {
            "text/plain": [
              "      age  gender  impluse  pressurehight  pressurelow  glucose    kcm  \\\n",
              "0      64       1       66            160           83    160.0   1.80   \n",
              "1      21       1       94             98           46    296.0   6.75   \n",
              "2      55       1       64            160           77    270.0   1.99   \n",
              "3      64       1       70            120           55    270.0  13.87   \n",
              "4      55       1       64            112           65    300.0   1.08   \n",
              "...   ...     ...      ...            ...          ...      ...    ...   \n",
              "1314   44       1       94            122           67    204.0   1.63   \n",
              "1315   66       1       84            125           55    149.0   1.33   \n",
              "1316   45       1       85            168          104     96.0   1.24   \n",
              "1317   54       1       58            117           68    443.0   5.80   \n",
              "1318   51       1       94            157           79    134.0  50.89   \n",
              "\n",
              "      troponin     class  \n",
              "0        0.012  negative  \n",
              "1        1.060  positive  \n",
              "2        0.003  negative  \n",
              "3        0.122  positive  \n",
              "4        0.003  negative  \n",
              "...        ...       ...  \n",
              "1314     0.006  negative  \n",
              "1315     0.172  positive  \n",
              "1316     4.250  positive  \n",
              "1317     0.359  positive  \n",
              "1318     1.770  positive  \n",
              "\n",
              "[1319 rows x 9 columns]"
            ],
            "text/html": [
              "\n",
              "  <div id=\"df-6ba73002-5ab1-4f6f-8e47-d38dd6f2c3dd\" class=\"colab-df-container\">\n",
              "    <div>\n",
              "<style scoped>\n",
              "    .dataframe tbody tr th:only-of-type {\n",
              "        vertical-align: middle;\n",
              "    }\n",
              "\n",
              "    .dataframe tbody tr th {\n",
              "        vertical-align: top;\n",
              "    }\n",
              "\n",
              "    .dataframe thead th {\n",
              "        text-align: right;\n",
              "    }\n",
              "</style>\n",
              "<table border=\"1\" class=\"dataframe\">\n",
              "  <thead>\n",
              "    <tr style=\"text-align: right;\">\n",
              "      <th></th>\n",
              "      <th>age</th>\n",
              "      <th>gender</th>\n",
              "      <th>impluse</th>\n",
              "      <th>pressurehight</th>\n",
              "      <th>pressurelow</th>\n",
              "      <th>glucose</th>\n",
              "      <th>kcm</th>\n",
              "      <th>troponin</th>\n",
              "      <th>class</th>\n",
              "    </tr>\n",
              "  </thead>\n",
              "  <tbody>\n",
              "    <tr>\n",
              "      <th>0</th>\n",
              "      <td>64</td>\n",
              "      <td>1</td>\n",
              "      <td>66</td>\n",
              "      <td>160</td>\n",
              "      <td>83</td>\n",
              "      <td>160.0</td>\n",
              "      <td>1.80</td>\n",
              "      <td>0.012</td>\n",
              "      <td>negative</td>\n",
              "    </tr>\n",
              "    <tr>\n",
              "      <th>1</th>\n",
              "      <td>21</td>\n",
              "      <td>1</td>\n",
              "      <td>94</td>\n",
              "      <td>98</td>\n",
              "      <td>46</td>\n",
              "      <td>296.0</td>\n",
              "      <td>6.75</td>\n",
              "      <td>1.060</td>\n",
              "      <td>positive</td>\n",
              "    </tr>\n",
              "    <tr>\n",
              "      <th>2</th>\n",
              "      <td>55</td>\n",
              "      <td>1</td>\n",
              "      <td>64</td>\n",
              "      <td>160</td>\n",
              "      <td>77</td>\n",
              "      <td>270.0</td>\n",
              "      <td>1.99</td>\n",
              "      <td>0.003</td>\n",
              "      <td>negative</td>\n",
              "    </tr>\n",
              "    <tr>\n",
              "      <th>3</th>\n",
              "      <td>64</td>\n",
              "      <td>1</td>\n",
              "      <td>70</td>\n",
              "      <td>120</td>\n",
              "      <td>55</td>\n",
              "      <td>270.0</td>\n",
              "      <td>13.87</td>\n",
              "      <td>0.122</td>\n",
              "      <td>positive</td>\n",
              "    </tr>\n",
              "    <tr>\n",
              "      <th>4</th>\n",
              "      <td>55</td>\n",
              "      <td>1</td>\n",
              "      <td>64</td>\n",
              "      <td>112</td>\n",
              "      <td>65</td>\n",
              "      <td>300.0</td>\n",
              "      <td>1.08</td>\n",
              "      <td>0.003</td>\n",
              "      <td>negative</td>\n",
              "    </tr>\n",
              "    <tr>\n",
              "      <th>...</th>\n",
              "      <td>...</td>\n",
              "      <td>...</td>\n",
              "      <td>...</td>\n",
              "      <td>...</td>\n",
              "      <td>...</td>\n",
              "      <td>...</td>\n",
              "      <td>...</td>\n",
              "      <td>...</td>\n",
              "      <td>...</td>\n",
              "    </tr>\n",
              "    <tr>\n",
              "      <th>1314</th>\n",
              "      <td>44</td>\n",
              "      <td>1</td>\n",
              "      <td>94</td>\n",
              "      <td>122</td>\n",
              "      <td>67</td>\n",
              "      <td>204.0</td>\n",
              "      <td>1.63</td>\n",
              "      <td>0.006</td>\n",
              "      <td>negative</td>\n",
              "    </tr>\n",
              "    <tr>\n",
              "      <th>1315</th>\n",
              "      <td>66</td>\n",
              "      <td>1</td>\n",
              "      <td>84</td>\n",
              "      <td>125</td>\n",
              "      <td>55</td>\n",
              "      <td>149.0</td>\n",
              "      <td>1.33</td>\n",
              "      <td>0.172</td>\n",
              "      <td>positive</td>\n",
              "    </tr>\n",
              "    <tr>\n",
              "      <th>1316</th>\n",
              "      <td>45</td>\n",
              "      <td>1</td>\n",
              "      <td>85</td>\n",
              "      <td>168</td>\n",
              "      <td>104</td>\n",
              "      <td>96.0</td>\n",
              "      <td>1.24</td>\n",
              "      <td>4.250</td>\n",
              "      <td>positive</td>\n",
              "    </tr>\n",
              "    <tr>\n",
              "      <th>1317</th>\n",
              "      <td>54</td>\n",
              "      <td>1</td>\n",
              "      <td>58</td>\n",
              "      <td>117</td>\n",
              "      <td>68</td>\n",
              "      <td>443.0</td>\n",
              "      <td>5.80</td>\n",
              "      <td>0.359</td>\n",
              "      <td>positive</td>\n",
              "    </tr>\n",
              "    <tr>\n",
              "      <th>1318</th>\n",
              "      <td>51</td>\n",
              "      <td>1</td>\n",
              "      <td>94</td>\n",
              "      <td>157</td>\n",
              "      <td>79</td>\n",
              "      <td>134.0</td>\n",
              "      <td>50.89</td>\n",
              "      <td>1.770</td>\n",
              "      <td>positive</td>\n",
              "    </tr>\n",
              "  </tbody>\n",
              "</table>\n",
              "<p>1319 rows × 9 columns</p>\n",
              "</div>\n",
              "    <div class=\"colab-df-buttons\">\n",
              "\n",
              "  <div class=\"colab-df-container\">\n",
              "    <button class=\"colab-df-convert\" onclick=\"convertToInteractive('df-6ba73002-5ab1-4f6f-8e47-d38dd6f2c3dd')\"\n",
              "            title=\"Convert this dataframe to an interactive table.\"\n",
              "            style=\"display:none;\">\n",
              "\n",
              "  <svg xmlns=\"http://www.w3.org/2000/svg\" height=\"24px\" viewBox=\"0 -960 960 960\">\n",
              "    <path d=\"M120-120v-720h720v720H120Zm60-500h600v-160H180v160Zm220 220h160v-160H400v160Zm0 220h160v-160H400v160ZM180-400h160v-160H180v160Zm440 0h160v-160H620v160ZM180-180h160v-160H180v160Zm440 0h160v-160H620v160Z\"/>\n",
              "  </svg>\n",
              "    </button>\n",
              "\n",
              "  <style>\n",
              "    .colab-df-container {\n",
              "      display:flex;\n",
              "      gap: 12px;\n",
              "    }\n",
              "\n",
              "    .colab-df-convert {\n",
              "      background-color: #E8F0FE;\n",
              "      border: none;\n",
              "      border-radius: 50%;\n",
              "      cursor: pointer;\n",
              "      display: none;\n",
              "      fill: #1967D2;\n",
              "      height: 32px;\n",
              "      padding: 0 0 0 0;\n",
              "      width: 32px;\n",
              "    }\n",
              "\n",
              "    .colab-df-convert:hover {\n",
              "      background-color: #E2EBFA;\n",
              "      box-shadow: 0px 1px 2px rgba(60, 64, 67, 0.3), 0px 1px 3px 1px rgba(60, 64, 67, 0.15);\n",
              "      fill: #174EA6;\n",
              "    }\n",
              "\n",
              "    .colab-df-buttons div {\n",
              "      margin-bottom: 4px;\n",
              "    }\n",
              "\n",
              "    [theme=dark] .colab-df-convert {\n",
              "      background-color: #3B4455;\n",
              "      fill: #D2E3FC;\n",
              "    }\n",
              "\n",
              "    [theme=dark] .colab-df-convert:hover {\n",
              "      background-color: #434B5C;\n",
              "      box-shadow: 0px 1px 3px 1px rgba(0, 0, 0, 0.15);\n",
              "      filter: drop-shadow(0px 1px 2px rgba(0, 0, 0, 0.3));\n",
              "      fill: #FFFFFF;\n",
              "    }\n",
              "  </style>\n",
              "\n",
              "    <script>\n",
              "      const buttonEl =\n",
              "        document.querySelector('#df-6ba73002-5ab1-4f6f-8e47-d38dd6f2c3dd button.colab-df-convert');\n",
              "      buttonEl.style.display =\n",
              "        google.colab.kernel.accessAllowed ? 'block' : 'none';\n",
              "\n",
              "      async function convertToInteractive(key) {\n",
              "        const element = document.querySelector('#df-6ba73002-5ab1-4f6f-8e47-d38dd6f2c3dd');\n",
              "        const dataTable =\n",
              "          await google.colab.kernel.invokeFunction('convertToInteractive',\n",
              "                                                    [key], {});\n",
              "        if (!dataTable) return;\n",
              "\n",
              "        const docLinkHtml = 'Like what you see? Visit the ' +\n",
              "          '<a target=\"_blank\" href=https://colab.research.google.com/notebooks/data_table.ipynb>data table notebook</a>'\n",
              "          + ' to learn more about interactive tables.';\n",
              "        element.innerHTML = '';\n",
              "        dataTable['output_type'] = 'display_data';\n",
              "        await google.colab.output.renderOutput(dataTable, element);\n",
              "        const docLink = document.createElement('div');\n",
              "        docLink.innerHTML = docLinkHtml;\n",
              "        element.appendChild(docLink);\n",
              "      }\n",
              "    </script>\n",
              "  </div>\n",
              "\n",
              "\n",
              "<div id=\"df-c437a655-8fa7-46c1-88ed-1af3640f57e6\">\n",
              "  <button class=\"colab-df-quickchart\" onclick=\"quickchart('df-c437a655-8fa7-46c1-88ed-1af3640f57e6')\"\n",
              "            title=\"Suggest charts\"\n",
              "            style=\"display:none;\">\n",
              "\n",
              "<svg xmlns=\"http://www.w3.org/2000/svg\" height=\"24px\"viewBox=\"0 0 24 24\"\n",
              "     width=\"24px\">\n",
              "    <g>\n",
              "        <path d=\"M19 3H5c-1.1 0-2 .9-2 2v14c0 1.1.9 2 2 2h14c1.1 0 2-.9 2-2V5c0-1.1-.9-2-2-2zM9 17H7v-7h2v7zm4 0h-2V7h2v10zm4 0h-2v-4h2v4z\"/>\n",
              "    </g>\n",
              "</svg>\n",
              "  </button>\n",
              "\n",
              "<style>\n",
              "  .colab-df-quickchart {\n",
              "      --bg-color: #E8F0FE;\n",
              "      --fill-color: #1967D2;\n",
              "      --hover-bg-color: #E2EBFA;\n",
              "      --hover-fill-color: #174EA6;\n",
              "      --disabled-fill-color: #AAA;\n",
              "      --disabled-bg-color: #DDD;\n",
              "  }\n",
              "\n",
              "  [theme=dark] .colab-df-quickchart {\n",
              "      --bg-color: #3B4455;\n",
              "      --fill-color: #D2E3FC;\n",
              "      --hover-bg-color: #434B5C;\n",
              "      --hover-fill-color: #FFFFFF;\n",
              "      --disabled-bg-color: #3B4455;\n",
              "      --disabled-fill-color: #666;\n",
              "  }\n",
              "\n",
              "  .colab-df-quickchart {\n",
              "    background-color: var(--bg-color);\n",
              "    border: none;\n",
              "    border-radius: 50%;\n",
              "    cursor: pointer;\n",
              "    display: none;\n",
              "    fill: var(--fill-color);\n",
              "    height: 32px;\n",
              "    padding: 0;\n",
              "    width: 32px;\n",
              "  }\n",
              "\n",
              "  .colab-df-quickchart:hover {\n",
              "    background-color: var(--hover-bg-color);\n",
              "    box-shadow: 0 1px 2px rgba(60, 64, 67, 0.3), 0 1px 3px 1px rgba(60, 64, 67, 0.15);\n",
              "    fill: var(--button-hover-fill-color);\n",
              "  }\n",
              "\n",
              "  .colab-df-quickchart-complete:disabled,\n",
              "  .colab-df-quickchart-complete:disabled:hover {\n",
              "    background-color: var(--disabled-bg-color);\n",
              "    fill: var(--disabled-fill-color);\n",
              "    box-shadow: none;\n",
              "  }\n",
              "\n",
              "  .colab-df-spinner {\n",
              "    border: 2px solid var(--fill-color);\n",
              "    border-color: transparent;\n",
              "    border-bottom-color: var(--fill-color);\n",
              "    animation:\n",
              "      spin 1s steps(1) infinite;\n",
              "  }\n",
              "\n",
              "  @keyframes spin {\n",
              "    0% {\n",
              "      border-color: transparent;\n",
              "      border-bottom-color: var(--fill-color);\n",
              "      border-left-color: var(--fill-color);\n",
              "    }\n",
              "    20% {\n",
              "      border-color: transparent;\n",
              "      border-left-color: var(--fill-color);\n",
              "      border-top-color: var(--fill-color);\n",
              "    }\n",
              "    30% {\n",
              "      border-color: transparent;\n",
              "      border-left-color: var(--fill-color);\n",
              "      border-top-color: var(--fill-color);\n",
              "      border-right-color: var(--fill-color);\n",
              "    }\n",
              "    40% {\n",
              "      border-color: transparent;\n",
              "      border-right-color: var(--fill-color);\n",
              "      border-top-color: var(--fill-color);\n",
              "    }\n",
              "    60% {\n",
              "      border-color: transparent;\n",
              "      border-right-color: var(--fill-color);\n",
              "    }\n",
              "    80% {\n",
              "      border-color: transparent;\n",
              "      border-right-color: var(--fill-color);\n",
              "      border-bottom-color: var(--fill-color);\n",
              "    }\n",
              "    90% {\n",
              "      border-color: transparent;\n",
              "      border-bottom-color: var(--fill-color);\n",
              "    }\n",
              "  }\n",
              "</style>\n",
              "\n",
              "  <script>\n",
              "    async function quickchart(key) {\n",
              "      const quickchartButtonEl =\n",
              "        document.querySelector('#' + key + ' button');\n",
              "      quickchartButtonEl.disabled = true;  // To prevent multiple clicks.\n",
              "      quickchartButtonEl.classList.add('colab-df-spinner');\n",
              "      try {\n",
              "        const charts = await google.colab.kernel.invokeFunction(\n",
              "            'suggestCharts', [key], {});\n",
              "      } catch (error) {\n",
              "        console.error('Error during call to suggestCharts:', error);\n",
              "      }\n",
              "      quickchartButtonEl.classList.remove('colab-df-spinner');\n",
              "      quickchartButtonEl.classList.add('colab-df-quickchart-complete');\n",
              "    }\n",
              "    (() => {\n",
              "      let quickchartButtonEl =\n",
              "        document.querySelector('#df-c437a655-8fa7-46c1-88ed-1af3640f57e6 button');\n",
              "      quickchartButtonEl.style.display =\n",
              "        google.colab.kernel.accessAllowed ? 'block' : 'none';\n",
              "    })();\n",
              "  </script>\n",
              "</div>\n",
              "\n",
              "  <div id=\"id_9461d460-5ca0-4b09-9ff2-af918e874e10\">\n",
              "    <style>\n",
              "      .colab-df-generate {\n",
              "        background-color: #E8F0FE;\n",
              "        border: none;\n",
              "        border-radius: 50%;\n",
              "        cursor: pointer;\n",
              "        display: none;\n",
              "        fill: #1967D2;\n",
              "        height: 32px;\n",
              "        padding: 0 0 0 0;\n",
              "        width: 32px;\n",
              "      }\n",
              "\n",
              "      .colab-df-generate:hover {\n",
              "        background-color: #E2EBFA;\n",
              "        box-shadow: 0px 1px 2px rgba(60, 64, 67, 0.3), 0px 1px 3px 1px rgba(60, 64, 67, 0.15);\n",
              "        fill: #174EA6;\n",
              "      }\n",
              "\n",
              "      [theme=dark] .colab-df-generate {\n",
              "        background-color: #3B4455;\n",
              "        fill: #D2E3FC;\n",
              "      }\n",
              "\n",
              "      [theme=dark] .colab-df-generate:hover {\n",
              "        background-color: #434B5C;\n",
              "        box-shadow: 0px 1px 3px 1px rgba(0, 0, 0, 0.15);\n",
              "        filter: drop-shadow(0px 1px 2px rgba(0, 0, 0, 0.3));\n",
              "        fill: #FFFFFF;\n",
              "      }\n",
              "    </style>\n",
              "    <button class=\"colab-df-generate\" onclick=\"generateWithVariable('dataset')\"\n",
              "            title=\"Generate code using this dataframe.\"\n",
              "            style=\"display:none;\">\n",
              "\n",
              "  <svg xmlns=\"http://www.w3.org/2000/svg\" height=\"24px\"viewBox=\"0 0 24 24\"\n",
              "       width=\"24px\">\n",
              "    <path d=\"M7,19H8.4L18.45,9,17,7.55,7,17.6ZM5,21V16.75L18.45,3.32a2,2,0,0,1,2.83,0l1.4,1.43a1.91,1.91,0,0,1,.58,1.4,1.91,1.91,0,0,1-.58,1.4L9.25,21ZM18.45,9,17,7.55Zm-12,3A5.31,5.31,0,0,0,4.9,8.1,5.31,5.31,0,0,0,1,6.5,5.31,5.31,0,0,0,4.9,4.9,5.31,5.31,0,0,0,6.5,1,5.31,5.31,0,0,0,8.1,4.9,5.31,5.31,0,0,0,12,6.5,5.46,5.46,0,0,0,6.5,12Z\"/>\n",
              "  </svg>\n",
              "    </button>\n",
              "    <script>\n",
              "      (() => {\n",
              "      const buttonEl =\n",
              "        document.querySelector('#id_9461d460-5ca0-4b09-9ff2-af918e874e10 button.colab-df-generate');\n",
              "      buttonEl.style.display =\n",
              "        google.colab.kernel.accessAllowed ? 'block' : 'none';\n",
              "\n",
              "      buttonEl.onclick = () => {\n",
              "        google.colab.notebook.generateWithVariable('dataset');\n",
              "      }\n",
              "      })();\n",
              "    </script>\n",
              "  </div>\n",
              "\n",
              "    </div>\n",
              "  </div>\n"
            ],
            "application/vnd.google.colaboratory.intrinsic+json": {
              "type": "dataframe",
              "variable_name": "dataset",
              "summary": "{\n  \"name\": \"dataset\",\n  \"rows\": 1319,\n  \"fields\": [\n    {\n      \"column\": \"age\",\n      \"properties\": {\n        \"dtype\": \"number\",\n        \"std\": 13,\n        \"min\": 14,\n        \"max\": 103,\n        \"samples\": [\n          32,\n          81,\n          61\n        ],\n        \"num_unique_values\": 75,\n        \"semantic_type\": \"\",\n        \"description\": \"\"\n      }\n    },\n    {\n      \"column\": \"gender\",\n      \"properties\": {\n        \"dtype\": \"number\",\n        \"std\": 0,\n        \"min\": 0,\n        \"max\": 1,\n        \"samples\": [\n          0,\n          1\n        ],\n        \"num_unique_values\": 2,\n        \"semantic_type\": \"\",\n        \"description\": \"\"\n      }\n    },\n    {\n      \"column\": \"impluse\",\n      \"properties\": {\n        \"dtype\": \"number\",\n        \"std\": 51,\n        \"min\": 20,\n        \"max\": 1111,\n        \"samples\": [\n          59,\n          66\n        ],\n        \"num_unique_values\": 79,\n        \"semantic_type\": \"\",\n        \"description\": \"\"\n      }\n    },\n    {\n      \"column\": \"pressurehight\",\n      \"properties\": {\n        \"dtype\": \"number\",\n        \"std\": 26,\n        \"min\": 42,\n        \"max\": 223,\n        \"samples\": [\n          93,\n          179\n        ],\n        \"num_unique_values\": 116,\n        \"semantic_type\": \"\",\n        \"description\": \"\"\n      }\n    },\n    {\n      \"column\": \"pressurelow\",\n      \"properties\": {\n        \"dtype\": \"number\",\n        \"std\": 14,\n        \"min\": 38,\n        \"max\": 154,\n        \"samples\": [\n          65,\n          41\n        ],\n        \"num_unique_values\": 73,\n        \"semantic_type\": \"\",\n        \"description\": \"\"\n      }\n    },\n    {\n      \"column\": \"glucose\",\n      \"properties\": {\n        \"dtype\": \"number\",\n        \"std\": 74.92304465780165,\n        \"min\": 35.0,\n        \"max\": 541.0,\n        \"samples\": [\n          166.0,\n          135.0\n        ],\n        \"num_unique_values\": 244,\n        \"semantic_type\": \"\",\n        \"description\": \"\"\n      }\n    },\n    {\n      \"column\": \"kcm\",\n      \"properties\": {\n        \"dtype\": \"number\",\n        \"std\": 46.32708334398736,\n        \"min\": 0.321,\n        \"max\": 300.0,\n        \"samples\": [\n          286.9,\n          0.457\n        ],\n        \"num_unique_values\": 700,\n        \"semantic_type\": \"\",\n        \"description\": \"\"\n      }\n    },\n    {\n      \"column\": \"troponin\",\n      \"properties\": {\n        \"dtype\": \"number\",\n        \"std\": 1.1545676649221812,\n        \"min\": 0.001,\n        \"max\": 10.3,\n        \"samples\": [\n          1.44,\n          0.431\n        ],\n        \"num_unique_values\": 352,\n        \"semantic_type\": \"\",\n        \"description\": \"\"\n      }\n    },\n    {\n      \"column\": \"class\",\n      \"properties\": {\n        \"dtype\": \"category\",\n        \"samples\": [\n          \"positive\",\n          \"negative\"\n        ],\n        \"num_unique_values\": 2,\n        \"semantic_type\": \"\",\n        \"description\": \"\"\n      }\n    }\n  ]\n}"
            }
          },
          "metadata": {},
          "execution_count": 19
        }
      ]
    },
    {
      "cell_type": "code",
      "source": [
        "X=dataset.iloc[:,0:8].values"
      ],
      "metadata": {
        "id": "xn0dRsSvSIPU"
      },
      "execution_count": 26,
      "outputs": []
    },
    {
      "cell_type": "code",
      "source": [
        "X"
      ],
      "metadata": {
        "colab": {
          "base_uri": "https://localhost:8080/"
        },
        "id": "jShiIneuSRP9",
        "outputId": "f7dad025-921d-4a6c-b863-f98411dac64c"
      },
      "execution_count": 27,
      "outputs": [
        {
          "output_type": "execute_result",
          "data": {
            "text/plain": [
              "array([[6.400e+01, 1.000e+00, 6.600e+01, ..., 1.600e+02, 1.800e+00,\n",
              "        1.200e-02],\n",
              "       [2.100e+01, 1.000e+00, 9.400e+01, ..., 2.960e+02, 6.750e+00,\n",
              "        1.060e+00],\n",
              "       [5.500e+01, 1.000e+00, 6.400e+01, ..., 2.700e+02, 1.990e+00,\n",
              "        3.000e-03],\n",
              "       ...,\n",
              "       [4.500e+01, 1.000e+00, 8.500e+01, ..., 9.600e+01, 1.240e+00,\n",
              "        4.250e+00],\n",
              "       [5.400e+01, 1.000e+00, 5.800e+01, ..., 4.430e+02, 5.800e+00,\n",
              "        3.590e-01],\n",
              "       [5.100e+01, 1.000e+00, 9.400e+01, ..., 1.340e+02, 5.089e+01,\n",
              "        1.770e+00]])"
            ]
          },
          "metadata": {},
          "execution_count": 27
        }
      ]
    },
    {
      "cell_type": "code",
      "source": [
        "y=dataset.iloc[:,-1].values"
      ],
      "metadata": {
        "id": "UX0cXeXRSSFR"
      },
      "execution_count": 28,
      "outputs": []
    },
    {
      "cell_type": "code",
      "source": [
        "y"
      ],
      "metadata": {
        "colab": {
          "base_uri": "https://localhost:8080/"
        },
        "id": "Meu6QwUrSfW5",
        "outputId": "dd812a86-45c1-4846-d740-30a269748a49"
      },
      "execution_count": 29,
      "outputs": [
        {
          "output_type": "execute_result",
          "data": {
            "text/plain": [
              "array(['negative', 'positive', 'negative', ..., 'positive', 'positive',\n",
              "       'positive'], dtype=object)"
            ]
          },
          "metadata": {},
          "execution_count": 29
        }
      ]
    },
    {
      "cell_type": "code",
      "source": [
        "from sklearn.preprocessing import LabelEncoder\n",
        "le = LabelEncoder()\n",
        "y = le.fit_transform(y)"
      ],
      "metadata": {
        "id": "lgNU8-aySf8M"
      },
      "execution_count": 30,
      "outputs": []
    },
    {
      "cell_type": "code",
      "source": [
        "y"
      ],
      "metadata": {
        "colab": {
          "base_uri": "https://localhost:8080/"
        },
        "id": "6rCdYlpzSpQe",
        "outputId": "b35938a2-a882-464c-9bc3-f0af500abc9f"
      },
      "execution_count": 31,
      "outputs": [
        {
          "output_type": "execute_result",
          "data": {
            "text/plain": [
              "array([0, 1, 0, ..., 1, 1, 1])"
            ]
          },
          "metadata": {},
          "execution_count": 31
        }
      ]
    },
    {
      "cell_type": "code",
      "source": [
        "from sklearn.model_selection import train_test_split\n",
        "X_train, X_test, y_train, y_test = train_test_split(X, y, test_size = 0.2, random_state = 1)"
      ],
      "metadata": {
        "id": "05NWco11Spzm"
      },
      "execution_count": 32,
      "outputs": []
    },
    {
      "cell_type": "code",
      "source": [
        "from sklearn.preprocessing import StandardScaler\n",
        "sc = StandardScaler()\n",
        "X_train = sc.fit_transform(X_train)\n",
        "X_test = sc.transform(X_test)"
      ],
      "metadata": {
        "id": "8UlS1OLZS3bb"
      },
      "execution_count": 33,
      "outputs": []
    },
    {
      "cell_type": "code",
      "source": [
        "ann=tf.keras.models.Sequential()"
      ],
      "metadata": {
        "id": "1MuvICjPS9qq"
      },
      "execution_count": 34,
      "outputs": []
    },
    {
      "cell_type": "code",
      "source": [
        "ann.add(tf.keras.layers.Dense(units=9,activation='relu'))"
      ],
      "metadata": {
        "id": "Eb8eLoJ7TlQ6"
      },
      "execution_count": 35,
      "outputs": []
    },
    {
      "cell_type": "code",
      "source": [
        "ann.add(tf.keras.layers.Dense(units=9,activation='relu'))"
      ],
      "metadata": {
        "id": "p_zzsKPJTuLS"
      },
      "execution_count": 36,
      "outputs": []
    },
    {
      "cell_type": "code",
      "source": [
        "ann.add(tf.keras.layers.Dense(units=1,activation='sigmoid'))"
      ],
      "metadata": {
        "id": "sU_eNnfTTvcV"
      },
      "execution_count": 37,
      "outputs": []
    },
    {
      "cell_type": "code",
      "source": [
        "ann.compile(optimizer='adam',loss='binary_crossentropy',metrics=['accuracy'])"
      ],
      "metadata": {
        "id": "ziGwhVzNTxqo"
      },
      "execution_count": 38,
      "outputs": []
    },
    {
      "cell_type": "code",
      "source": [
        "history=ann.fit(X_train,y_train,batch_size=32,epochs=100)"
      ],
      "metadata": {
        "colab": {
          "base_uri": "https://localhost:8080/"
        },
        "id": "Ol5pOyFrT6NS",
        "outputId": "1f9966d4-98f0-4063-92d2-d7b852f47206"
      },
      "execution_count": 39,
      "outputs": [
        {
          "output_type": "stream",
          "name": "stdout",
          "text": [
            "Epoch 1/100\n",
            "33/33 [==============================] - 3s 30ms/step - loss: 0.6578 - accuracy: 0.6104\n",
            "Epoch 2/100\n",
            "33/33 [==============================] - 0s 2ms/step - loss: 0.6456 - accuracy: 0.6152\n",
            "Epoch 3/100\n",
            "33/33 [==============================] - 0s 2ms/step - loss: 0.6355 - accuracy: 0.6294\n",
            "Epoch 4/100\n",
            "33/33 [==============================] - 1s 30ms/step - loss: 0.6268 - accuracy: 0.6370\n",
            "Epoch 5/100\n",
            "33/33 [==============================] - 0s 2ms/step - loss: 0.6188 - accuracy: 0.6474\n",
            "Epoch 6/100\n",
            "33/33 [==============================] - 1s 30ms/step - loss: 0.6116 - accuracy: 0.6597\n",
            "Epoch 7/100\n",
            "33/33 [==============================] - 0s 14ms/step - loss: 0.6051 - accuracy: 0.6673\n",
            "Epoch 8/100\n",
            "33/33 [==============================] - 0s 3ms/step - loss: 0.5992 - accuracy: 0.6701\n",
            "Epoch 9/100\n",
            "33/33 [==============================] - 0s 4ms/step - loss: 0.5932 - accuracy: 0.6682\n",
            "Epoch 10/100\n",
            "33/33 [==============================] - 0s 4ms/step - loss: 0.5872 - accuracy: 0.6730\n",
            "Epoch 11/100\n",
            "33/33 [==============================] - 0s 4ms/step - loss: 0.5814 - accuracy: 0.6815\n",
            "Epoch 12/100\n",
            "33/33 [==============================] - 0s 3ms/step - loss: 0.5759 - accuracy: 0.6863\n",
            "Epoch 13/100\n",
            "33/33 [==============================] - 0s 4ms/step - loss: 0.5699 - accuracy: 0.6929\n",
            "Epoch 14/100\n",
            "33/33 [==============================] - 0s 4ms/step - loss: 0.5645 - accuracy: 0.6995\n",
            "Epoch 15/100\n",
            "33/33 [==============================] - 0s 2ms/step - loss: 0.5594 - accuracy: 0.7024\n",
            "Epoch 16/100\n",
            "33/33 [==============================] - 0s 3ms/step - loss: 0.5541 - accuracy: 0.7043\n",
            "Epoch 17/100\n",
            "33/33 [==============================] - 0s 2ms/step - loss: 0.5481 - accuracy: 0.7100\n",
            "Epoch 18/100\n",
            "33/33 [==============================] - 0s 3ms/step - loss: 0.5423 - accuracy: 0.7194\n",
            "Epoch 19/100\n",
            "33/33 [==============================] - 0s 3ms/step - loss: 0.5362 - accuracy: 0.7270\n",
            "Epoch 20/100\n",
            "33/33 [==============================] - 0s 2ms/step - loss: 0.5298 - accuracy: 0.7336\n",
            "Epoch 21/100\n",
            "33/33 [==============================] - 0s 2ms/step - loss: 0.5236 - accuracy: 0.7403\n",
            "Epoch 22/100\n",
            "33/33 [==============================] - 0s 2ms/step - loss: 0.5166 - accuracy: 0.7517\n",
            "Epoch 23/100\n",
            "33/33 [==============================] - 0s 2ms/step - loss: 0.5114 - accuracy: 0.7564\n",
            "Epoch 24/100\n",
            "33/33 [==============================] - 0s 2ms/step - loss: 0.5033 - accuracy: 0.7592\n",
            "Epoch 25/100\n",
            "33/33 [==============================] - 0s 2ms/step - loss: 0.4972 - accuracy: 0.7640\n",
            "Epoch 26/100\n",
            "33/33 [==============================] - 0s 3ms/step - loss: 0.4911 - accuracy: 0.7791\n",
            "Epoch 27/100\n",
            "33/33 [==============================] - 0s 2ms/step - loss: 0.4858 - accuracy: 0.7773\n",
            "Epoch 28/100\n",
            "33/33 [==============================] - 0s 2ms/step - loss: 0.4790 - accuracy: 0.7867\n",
            "Epoch 29/100\n",
            "33/33 [==============================] - 1s 32ms/step - loss: 0.4743 - accuracy: 0.7886\n",
            "Epoch 30/100\n",
            "33/33 [==============================] - 0s 2ms/step - loss: 0.4689 - accuracy: 0.7924\n",
            "Epoch 31/100\n",
            "33/33 [==============================] - 1s 28ms/step - loss: 0.4639 - accuracy: 0.7972\n",
            "Epoch 32/100\n",
            "33/33 [==============================] - 0s 2ms/step - loss: 0.4597 - accuracy: 0.7991\n",
            "Epoch 33/100\n",
            "33/33 [==============================] - 0s 2ms/step - loss: 0.4553 - accuracy: 0.8009\n",
            "Epoch 34/100\n",
            "33/33 [==============================] - 2s 61ms/step - loss: 0.4511 - accuracy: 0.8038\n",
            "Epoch 35/100\n",
            "33/33 [==============================] - 1s 30ms/step - loss: 0.4468 - accuracy: 0.8095\n",
            "Epoch 36/100\n",
            "33/33 [==============================] - 1s 29ms/step - loss: 0.4435 - accuracy: 0.8104\n",
            "Epoch 37/100\n",
            "33/33 [==============================] - 0s 12ms/step - loss: 0.4393 - accuracy: 0.8057\n",
            "Epoch 38/100\n",
            "33/33 [==============================] - 0s 2ms/step - loss: 0.4362 - accuracy: 0.8085\n",
            "Epoch 39/100\n",
            "33/33 [==============================] - 0s 2ms/step - loss: 0.4327 - accuracy: 0.8114\n",
            "Epoch 40/100\n",
            "33/33 [==============================] - 0s 2ms/step - loss: 0.4294 - accuracy: 0.8133\n",
            "Epoch 41/100\n",
            "33/33 [==============================] - 0s 2ms/step - loss: 0.4263 - accuracy: 0.8076\n",
            "Epoch 42/100\n",
            "33/33 [==============================] - 0s 3ms/step - loss: 0.4234 - accuracy: 0.8161\n",
            "Epoch 43/100\n",
            "33/33 [==============================] - 0s 2ms/step - loss: 0.4194 - accuracy: 0.8152\n",
            "Epoch 44/100\n",
            "33/33 [==============================] - 0s 2ms/step - loss: 0.4177 - accuracy: 0.8142\n",
            "Epoch 45/100\n",
            "33/33 [==============================] - 0s 2ms/step - loss: 0.4151 - accuracy: 0.8171\n",
            "Epoch 46/100\n",
            "33/33 [==============================] - 0s 2ms/step - loss: 0.4119 - accuracy: 0.8199\n",
            "Epoch 47/100\n",
            "33/33 [==============================] - 0s 2ms/step - loss: 0.4105 - accuracy: 0.8190\n",
            "Epoch 48/100\n",
            "33/33 [==============================] - 1s 27ms/step - loss: 0.4085 - accuracy: 0.8171\n",
            "Epoch 49/100\n",
            "33/33 [==============================] - 1s 29ms/step - loss: 0.4055 - accuracy: 0.8171\n",
            "Epoch 50/100\n",
            "33/33 [==============================] - 0s 2ms/step - loss: 0.4030 - accuracy: 0.8180\n",
            "Epoch 51/100\n",
            "33/33 [==============================] - 0s 2ms/step - loss: 0.4019 - accuracy: 0.8180\n",
            "Epoch 52/100\n",
            "33/33 [==============================] - 0s 3ms/step - loss: 0.4005 - accuracy: 0.8161\n",
            "Epoch 53/100\n",
            "33/33 [==============================] - 0s 3ms/step - loss: 0.3981 - accuracy: 0.8218\n",
            "Epoch 54/100\n",
            "33/33 [==============================] - 0s 2ms/step - loss: 0.3974 - accuracy: 0.8227\n",
            "Epoch 55/100\n",
            "33/33 [==============================] - 0s 2ms/step - loss: 0.3952 - accuracy: 0.8190\n",
            "Epoch 56/100\n",
            "33/33 [==============================] - 0s 2ms/step - loss: 0.3920 - accuracy: 0.8313\n",
            "Epoch 57/100\n",
            "33/33 [==============================] - 0s 3ms/step - loss: 0.3910 - accuracy: 0.8265\n",
            "Epoch 58/100\n",
            "33/33 [==============================] - 0s 3ms/step - loss: 0.3907 - accuracy: 0.8180\n",
            "Epoch 59/100\n",
            "33/33 [==============================] - 0s 3ms/step - loss: 0.3889 - accuracy: 0.8209\n",
            "Epoch 60/100\n",
            "33/33 [==============================] - 0s 2ms/step - loss: 0.3854 - accuracy: 0.8265\n",
            "Epoch 61/100\n",
            "33/33 [==============================] - 0s 2ms/step - loss: 0.3843 - accuracy: 0.8256\n",
            "Epoch 62/100\n",
            "33/33 [==============================] - 0s 2ms/step - loss: 0.3832 - accuracy: 0.8294\n",
            "Epoch 63/100\n",
            "33/33 [==============================] - 0s 2ms/step - loss: 0.3817 - accuracy: 0.8246\n",
            "Epoch 64/100\n",
            "33/33 [==============================] - 0s 2ms/step - loss: 0.3820 - accuracy: 0.8294\n",
            "Epoch 65/100\n",
            "33/33 [==============================] - 0s 2ms/step - loss: 0.3791 - accuracy: 0.8218\n",
            "Epoch 66/100\n",
            "33/33 [==============================] - 0s 2ms/step - loss: 0.3766 - accuracy: 0.8256\n",
            "Epoch 67/100\n",
            "33/33 [==============================] - 0s 3ms/step - loss: 0.3765 - accuracy: 0.8294\n",
            "Epoch 68/100\n",
            "33/33 [==============================] - 0s 2ms/step - loss: 0.3750 - accuracy: 0.8227\n",
            "Epoch 69/100\n",
            "33/33 [==============================] - 1s 33ms/step - loss: 0.3742 - accuracy: 0.8237\n",
            "Epoch 70/100\n",
            "33/33 [==============================] - 1s 30ms/step - loss: 0.3753 - accuracy: 0.8322\n",
            "Epoch 71/100\n",
            "33/33 [==============================] - 1s 29ms/step - loss: 0.3726 - accuracy: 0.8303\n",
            "Epoch 72/100\n",
            "33/33 [==============================] - 1s 30ms/step - loss: 0.3698 - accuracy: 0.8313\n",
            "Epoch 73/100\n",
            "33/33 [==============================] - 1s 30ms/step - loss: 0.3691 - accuracy: 0.8284\n",
            "Epoch 74/100\n",
            "33/33 [==============================] - 0s 12ms/step - loss: 0.3674 - accuracy: 0.8341\n",
            "Epoch 75/100\n",
            "33/33 [==============================] - 0s 2ms/step - loss: 0.3655 - accuracy: 0.8303\n",
            "Epoch 76/100\n",
            "33/33 [==============================] - 0s 2ms/step - loss: 0.3645 - accuracy: 0.8313\n",
            "Epoch 77/100\n",
            "33/33 [==============================] - 0s 2ms/step - loss: 0.3637 - accuracy: 0.8341\n",
            "Epoch 78/100\n",
            "33/33 [==============================] - 0s 2ms/step - loss: 0.3619 - accuracy: 0.8313\n",
            "Epoch 79/100\n",
            "33/33 [==============================] - 0s 2ms/step - loss: 0.3611 - accuracy: 0.8322\n",
            "Epoch 80/100\n",
            "33/33 [==============================] - 0s 2ms/step - loss: 0.3625 - accuracy: 0.8379\n",
            "Epoch 81/100\n",
            "33/33 [==============================] - 0s 2ms/step - loss: 0.3621 - accuracy: 0.8284\n",
            "Epoch 82/100\n",
            "33/33 [==============================] - 0s 2ms/step - loss: 0.3589 - accuracy: 0.8370\n",
            "Epoch 83/100\n",
            "33/33 [==============================] - 0s 3ms/step - loss: 0.3575 - accuracy: 0.8360\n",
            "Epoch 84/100\n",
            "33/33 [==============================] - 0s 2ms/step - loss: 0.3564 - accuracy: 0.8351\n",
            "Epoch 85/100\n",
            "33/33 [==============================] - 1s 30ms/step - loss: 0.3551 - accuracy: 0.8360\n",
            "Epoch 86/100\n",
            "33/33 [==============================] - 1s 2ms/step - loss: 0.3568 - accuracy: 0.8370\n",
            "Epoch 87/100\n",
            "33/33 [==============================] - 0s 2ms/step - loss: 0.3538 - accuracy: 0.8351\n",
            "Epoch 88/100\n",
            "33/33 [==============================] - 0s 2ms/step - loss: 0.3539 - accuracy: 0.8408\n",
            "Epoch 89/100\n",
            "33/33 [==============================] - 0s 2ms/step - loss: 0.3522 - accuracy: 0.8332\n",
            "Epoch 90/100\n",
            "33/33 [==============================] - 0s 2ms/step - loss: 0.3508 - accuracy: 0.8332\n",
            "Epoch 91/100\n",
            "33/33 [==============================] - 0s 2ms/step - loss: 0.3514 - accuracy: 0.8408\n",
            "Epoch 92/100\n",
            "33/33 [==============================] - 0s 2ms/step - loss: 0.3507 - accuracy: 0.8427\n",
            "Epoch 93/100\n",
            "33/33 [==============================] - 0s 3ms/step - loss: 0.3498 - accuracy: 0.8398\n",
            "Epoch 94/100\n",
            "33/33 [==============================] - 0s 3ms/step - loss: 0.3483 - accuracy: 0.8427\n",
            "Epoch 95/100\n",
            "33/33 [==============================] - 1s 29ms/step - loss: 0.3471 - accuracy: 0.8445\n",
            "Epoch 96/100\n",
            "33/33 [==============================] - 0s 12ms/step - loss: 0.3482 - accuracy: 0.8379\n",
            "Epoch 97/100\n",
            "33/33 [==============================] - 0s 2ms/step - loss: 0.3468 - accuracy: 0.8436\n",
            "Epoch 98/100\n",
            "33/33 [==============================] - 0s 2ms/step - loss: 0.3447 - accuracy: 0.8379\n",
            "Epoch 99/100\n",
            "33/33 [==============================] - 0s 2ms/step - loss: 0.3449 - accuracy: 0.8445\n",
            "Epoch 100/100\n",
            "33/33 [==============================] - 0s 3ms/step - loss: 0.3425 - accuracy: 0.8417\n"
          ]
        }
      ]
    },
    {
      "cell_type": "code",
      "source": [
        "model1_eval=ann.evaluate(X_test,y_test)"
      ],
      "metadata": {
        "colab": {
          "base_uri": "https://localhost:8080/"
        },
        "id": "2q3JxCicUFNk",
        "outputId": "2c329da5-4657-4d76-a899-bcfdda216761"
      },
      "execution_count": 40,
      "outputs": [
        {
          "output_type": "stream",
          "name": "stdout",
          "text": [
            "9/9 [==============================] - 1s 63ms/step - loss: 0.3579 - accuracy: 0.8030\n"
          ]
        }
      ]
    },
    {
      "cell_type": "code",
      "source": [
        "model1_train=ann.evaluate(X_train,y_train) #comparing with X_test to check for overfiiting"
      ],
      "metadata": {
        "colab": {
          "base_uri": "https://localhost:8080/"
        },
        "id": "IU3e5jHhc0bo",
        "outputId": "0d174fcb-c6ea-4a13-8a2c-e378480d59c4"
      },
      "execution_count": 105,
      "outputs": [
        {
          "output_type": "stream",
          "name": "stdout",
          "text": [
            "33/33 [==============================] - 1s 28ms/step - loss: 0.1636 - accuracy: 0.9422\n"
          ]
        }
      ]
    },
    {
      "cell_type": "code",
      "source": [
        "pd.DataFrame(history.history).plot()\n"
      ],
      "metadata": {
        "colab": {
          "base_uri": "https://localhost:8080/",
          "height": 447
        },
        "id": "WusS_2rSV2P4",
        "outputId": "2c42107d-9ac8-44b6-a5d2-53ee655a6ba6"
      },
      "execution_count": 41,
      "outputs": [
        {
          "output_type": "execute_result",
          "data": {
            "text/plain": [
              "<Axes: >"
            ]
          },
          "metadata": {},
          "execution_count": 41
        },
        {
          "output_type": "display_data",
          "data": {
            "text/plain": [
              "<Figure size 640x480 with 1 Axes>"
            ],
            "image/png": "[encoded data removed]"
          },
          "metadata": {}
        }
      ]
    },
    {
      "cell_type": "code",
      "source": [
        "y_pred=ann.predict(X_test)"
      ],
      "metadata": {
        "colab": {
          "base_uri": "https://localhost:8080/"
        },
        "id": "gl2j8_LaWFSN",
        "outputId": "929988d4-9bc0-4a19-8e2a-4686a1ba7c2e"
      },
      "execution_count": 42,
      "outputs": [
        {
          "output_type": "stream",
          "name": "stdout",
          "text": [
            "9/9 [==============================] - 0s 2ms/step\n"
          ]
        }
      ]
    },
    {
      "cell_type": "code",
      "source": [
        "y_pred=y_pred > 0.5"
      ],
      "metadata": {
        "id": "HTlglf0vWOLs"
      },
      "execution_count": 43,
      "outputs": []
    },
    {
      "cell_type": "code",
      "source": [
        "y_pred"
      ],
      "metadata": {
        "colab": {
          "base_uri": "https://localhost:8080/"
        },
        "id": "g9WQ459vWX75",
        "outputId": "5c6215a3-a5a5-4277-ad6f-35a2d81e4393"
      },
      "execution_count": 44,
      "outputs": [
        {
          "output_type": "execute_result",
          "data": {
            "text/plain": [
              "array([[False],\n",
              "       [False],\n",
              "       [ True],\n",
              "       [False],\n",
              "       [False],\n",
              "       [False],\n",
              "       [ True],\n",
              "       [False],\n",
              "       [ True],\n",
              "       [ True],\n",
              "       [False],\n",
              "       [ True],\n",
              "       [ True],\n",
              "       [ True],\n",
              "       [False],\n",
              "       [False],\n",
              "       [ True],\n",
              "       [ True],\n",
              "       [False],\n",
              "       [ True],\n",
              "       [False],\n",
              "       [ True],\n",
              "       [ True],\n",
              "       [False],\n",
              "       [ True],\n",
              "       [ True],\n",
              "       [ True],\n",
              "       [ True],\n",
              "       [ True],\n",
              "       [False],\n",
              "       [False],\n",
              "       [ True],\n",
              "       [False],\n",
              "       [ True],\n",
              "       [ True],\n",
              "       [False],\n",
              "       [ True],\n",
              "       [ True],\n",
              "       [ True],\n",
              "       [ True],\n",
              "       [ True],\n",
              "       [ True],\n",
              "       [False],\n",
              "       [False],\n",
              "       [False],\n",
              "       [False],\n",
              "       [False],\n",
              "       [ True],\n",
              "       [ True],\n",
              "       [False],\n",
              "       [ True],\n",
              "       [ True],\n",
              "       [False],\n",
              "       [False],\n",
              "       [False],\n",
              "       [False],\n",
              "       [ True],\n",
              "       [False],\n",
              "       [False],\n",
              "       [ True],\n",
              "       [ True],\n",
              "       [ True],\n",
              "       [ True],\n",
              "       [False],\n",
              "       [ True],\n",
              "       [False],\n",
              "       [False],\n",
              "       [False],\n",
              "       [False],\n",
              "       [ True],\n",
              "       [ True],\n",
              "       [ True],\n",
              "       [ True],\n",
              "       [False],\n",
              "       [ True],\n",
              "       [ True],\n",
              "       [False],\n",
              "       [False],\n",
              "       [False],\n",
              "       [False],\n",
              "       [ True],\n",
              "       [False],\n",
              "       [ True],\n",
              "       [False],\n",
              "       [ True],\n",
              "       [False],\n",
              "       [ True],\n",
              "       [False],\n",
              "       [ True],\n",
              "       [ True],\n",
              "       [ True],\n",
              "       [False],\n",
              "       [ True],\n",
              "       [False],\n",
              "       [False],\n",
              "       [ True],\n",
              "       [False],\n",
              "       [ True],\n",
              "       [ True],\n",
              "       [ True],\n",
              "       [ True],\n",
              "       [ True],\n",
              "       [False],\n",
              "       [ True],\n",
              "       [ True],\n",
              "       [False],\n",
              "       [ True],\n",
              "       [ True],\n",
              "       [ True],\n",
              "       [ True],\n",
              "       [False],\n",
              "       [ True],\n",
              "       [False],\n",
              "       [False],\n",
              "       [False],\n",
              "       [ True],\n",
              "       [False],\n",
              "       [ True],\n",
              "       [False],\n",
              "       [ True],\n",
              "       [False],\n",
              "       [ True],\n",
              "       [False],\n",
              "       [ True],\n",
              "       [ True],\n",
              "       [ True],\n",
              "       [ True],\n",
              "       [ True],\n",
              "       [ True],\n",
              "       [False],\n",
              "       [ True],\n",
              "       [ True],\n",
              "       [False],\n",
              "       [False],\n",
              "       [ True],\n",
              "       [False],\n",
              "       [False],\n",
              "       [ True],\n",
              "       [ True],\n",
              "       [False],\n",
              "       [False],\n",
              "       [False],\n",
              "       [ True],\n",
              "       [ True],\n",
              "       [ True],\n",
              "       [False],\n",
              "       [False],\n",
              "       [ True],\n",
              "       [ True],\n",
              "       [ True],\n",
              "       [False],\n",
              "       [ True],\n",
              "       [ True],\n",
              "       [False],\n",
              "       [ True],\n",
              "       [ True],\n",
              "       [False],\n",
              "       [ True],\n",
              "       [ True],\n",
              "       [False],\n",
              "       [False],\n",
              "       [False],\n",
              "       [ True],\n",
              "       [ True],\n",
              "       [False],\n",
              "       [ True],\n",
              "       [False],\n",
              "       [False],\n",
              "       [False],\n",
              "       [ True],\n",
              "       [False],\n",
              "       [False],\n",
              "       [ True],\n",
              "       [False],\n",
              "       [False],\n",
              "       [ True],\n",
              "       [ True],\n",
              "       [False],\n",
              "       [ True],\n",
              "       [False],\n",
              "       [ True],\n",
              "       [ True],\n",
              "       [False],\n",
              "       [ True],\n",
              "       [ True],\n",
              "       [False],\n",
              "       [False],\n",
              "       [ True],\n",
              "       [ True],\n",
              "       [False],\n",
              "       [False],\n",
              "       [ True],\n",
              "       [False],\n",
              "       [ True],\n",
              "       [False],\n",
              "       [ True],\n",
              "       [ True],\n",
              "       [False],\n",
              "       [ True],\n",
              "       [False],\n",
              "       [False],\n",
              "       [ True],\n",
              "       [ True],\n",
              "       [ True],\n",
              "       [ True],\n",
              "       [ True],\n",
              "       [ True],\n",
              "       [False],\n",
              "       [ True],\n",
              "       [False],\n",
              "       [ True],\n",
              "       [False],\n",
              "       [False],\n",
              "       [False],\n",
              "       [ True],\n",
              "       [ True],\n",
              "       [ True],\n",
              "       [False],\n",
              "       [ True],\n",
              "       [ True],\n",
              "       [ True],\n",
              "       [ True],\n",
              "       [ True],\n",
              "       [False],\n",
              "       [ True],\n",
              "       [False],\n",
              "       [ True],\n",
              "       [ True],\n",
              "       [ True],\n",
              "       [False],\n",
              "       [False],\n",
              "       [ True],\n",
              "       [ True],\n",
              "       [False],\n",
              "       [ True],\n",
              "       [ True],\n",
              "       [False],\n",
              "       [ True],\n",
              "       [ True],\n",
              "       [ True],\n",
              "       [ True],\n",
              "       [ True],\n",
              "       [ True],\n",
              "       [ True],\n",
              "       [ True],\n",
              "       [ True],\n",
              "       [False],\n",
              "       [False],\n",
              "       [False],\n",
              "       [ True],\n",
              "       [ True],\n",
              "       [False],\n",
              "       [ True],\n",
              "       [False],\n",
              "       [False],\n",
              "       [ True],\n",
              "       [False],\n",
              "       [False],\n",
              "       [ True],\n",
              "       [False],\n",
              "       [False],\n",
              "       [False],\n",
              "       [False],\n",
              "       [ True]])"
            ]
          },
          "metadata": {},
          "execution_count": 44
        }
      ]
    },
    {
      "cell_type": "code",
      "source": [
        "from sklearn.metrics import confusion_matrix\n",
        "plt.figure(figsize=(10,7))\n",
        "sns.heatmap(confusion_matrix(y_test, y_pred), annot=True, fmt='d', cmap='Blues')\n",
        "plt.xlabel('Predicted')\n",
        "plt.ylabel('Actual')\n",
        "plt.title('Confusion Matrix')\n",
        "plt.show()"
      ],
      "metadata": {
        "colab": {
          "base_uri": "https://localhost:8080/",
          "height": 641
        },
        "id": "VjZhkbNCWOo8",
        "outputId": "811ae79b-0dca-4210-9119-cce8ced08671"
      },
      "execution_count": 45,
      "outputs": [
        {
          "output_type": "display_data",
          "data": {
            "text/plain": [
              "<Figure size 1000x700 with 2 Axes>"
            ],
            "image/png": "[encoded data removed]"
          },
          "metadata": {}
        }
      ]
    },
    {
      "cell_type": "code",
      "source": [
        "from sklearn.metrics import classification_report #Precision, recall, f1-score and support\n",
        "print(classification_report(y_test, y_pred))"
      ],
      "metadata": {
        "colab": {
          "base_uri": "https://localhost:8080/"
        },
        "id": "dxysOAS8WcQF",
        "outputId": "5924e42f-33e6-487a-e9db-8e3843ce64fa"
      },
      "execution_count": 46,
      "outputs": [
        {
          "output_type": "stream",
          "name": "stdout",
          "text": [
            "              precision    recall  f1-score   support\n",
            "\n",
            "           0       0.73      0.80      0.77       106\n",
            "           1       0.86      0.80      0.83       158\n",
            "\n",
            "    accuracy                           0.80       264\n",
            "   macro avg       0.80      0.80      0.80       264\n",
            "weighted avg       0.81      0.80      0.80       264\n",
            "\n"
          ]
        }
      ]
    },
    {
      "cell_type": "code",
      "source": [],
      "metadata": {
        "id": "RcW-z2LgWzw-"
      },
      "execution_count": null,
      "outputs": []
    },
    {
      "cell_type": "markdown",
      "source": [
        "## lets make a new model increasing the hidden neurons to 30 from 9"
      ],
      "metadata": {
        "id": "3i1x9T0VW4rg"
      }
    },
    {
      "cell_type": "code",
      "source": [
        "ann1=tf.keras.models.Sequential()"
      ],
      "metadata": {
        "id": "Eb9wdgkNXCa3"
      },
      "execution_count": 47,
      "outputs": []
    },
    {
      "cell_type": "code",
      "source": [
        "ann1.add(tf.keras.layers.Dense(units=30,activation='relu'))"
      ],
      "metadata": {
        "id": "MkcMh1MPXJr4"
      },
      "execution_count": 48,
      "outputs": []
    },
    {
      "cell_type": "code",
      "source": [
        "ann1.add(tf.keras.layers.Dense(units=9,activation='relu'))"
      ],
      "metadata": {
        "id": "V642mvRJXReK"
      },
      "execution_count": 49,
      "outputs": []
    },
    {
      "cell_type": "code",
      "source": [
        "ann1.add(tf.keras.layers.Dense(units=1,activation='sigmoid'))"
      ],
      "metadata": {
        "id": "AOJhzQ4kXUXK"
      },
      "execution_count": 50,
      "outputs": []
    },
    {
      "cell_type": "code",
      "source": [
        "ann1.compile(optimizer='adam',loss='binary_crossentropy',metrics=['accuracy'])"
      ],
      "metadata": {
        "id": "93t9Qi6wXWlu"
      },
      "execution_count": 84,
      "outputs": []
    },
    {
      "cell_type": "code",
      "source": [
        "history2=ann1.fit(X_train,y_train,batch_size=32,epochs=100)"
      ],
      "metadata": {
        "colab": {
          "base_uri": "https://localhost:8080/"
        },
        "id": "a7COWefUXfHa",
        "outputId": "ef51f856-35e0-45a5-f8b8-b8d58a8b9b82"
      },
      "execution_count": 85,
      "outputs": [
        {
          "output_type": "stream",
          "name": "stdout",
          "text": [
            "Epoch 1/100\n",
            "33/33 [==============================] - 4s 86ms/step - loss: 0.6664 - accuracy: 0.5763\n",
            "Epoch 2/100\n",
            "33/33 [==============================] - 0s 2ms/step - loss: 0.6343 - accuracy: 0.6199\n",
            "Epoch 3/100\n",
            "33/33 [==============================] - 0s 3ms/step - loss: 0.6169 - accuracy: 0.6284\n",
            "Epoch 4/100\n",
            "33/33 [==============================] - 0s 3ms/step - loss: 0.6035 - accuracy: 0.6616\n",
            "Epoch 5/100\n",
            "33/33 [==============================] - 0s 2ms/step - loss: 0.5905 - accuracy: 0.6777\n",
            "Epoch 6/100\n",
            "33/33 [==============================] - 0s 3ms/step - loss: 0.5784 - accuracy: 0.7033\n",
            "Epoch 7/100\n",
            "33/33 [==============================] - 0s 3ms/step - loss: 0.5655 - accuracy: 0.7090\n",
            "Epoch 8/100\n",
            "33/33 [==============================] - 0s 2ms/step - loss: 0.5541 - accuracy: 0.7223\n",
            "Epoch 9/100\n",
            "33/33 [==============================] - 0s 2ms/step - loss: 0.5438 - accuracy: 0.7261\n",
            "Epoch 10/100\n",
            "33/33 [==============================] - 0s 2ms/step - loss: 0.5346 - accuracy: 0.7261\n",
            "Epoch 11/100\n",
            "33/33 [==============================] - 0s 2ms/step - loss: 0.5256 - accuracy: 0.7336\n",
            "Epoch 12/100\n",
            "33/33 [==============================] - 0s 2ms/step - loss: 0.5164 - accuracy: 0.7393\n",
            "Epoch 13/100\n",
            "33/33 [==============================] - 0s 3ms/step - loss: 0.5079 - accuracy: 0.7450\n",
            "Epoch 14/100\n",
            "33/33 [==============================] - 0s 2ms/step - loss: 0.4987 - accuracy: 0.7498\n",
            "Epoch 15/100\n",
            "33/33 [==============================] - 0s 3ms/step - loss: 0.4903 - accuracy: 0.7602\n",
            "Epoch 16/100\n",
            "33/33 [==============================] - 0s 3ms/step - loss: 0.4824 - accuracy: 0.7725\n",
            "Epoch 17/100\n",
            "33/33 [==============================] - 0s 3ms/step - loss: 0.4754 - accuracy: 0.7754\n",
            "Epoch 18/100\n",
            "33/33 [==============================] - 0s 2ms/step - loss: 0.4670 - accuracy: 0.7839\n",
            "Epoch 19/100\n",
            "33/33 [==============================] - 0s 2ms/step - loss: 0.4591 - accuracy: 0.7801\n",
            "Epoch 20/100\n",
            "33/33 [==============================] - 0s 2ms/step - loss: 0.4536 - accuracy: 0.7915\n",
            "Epoch 21/100\n",
            "33/33 [==============================] - 0s 2ms/step - loss: 0.4471 - accuracy: 0.8009\n",
            "Epoch 22/100\n",
            "33/33 [==============================] - 0s 2ms/step - loss: 0.4409 - accuracy: 0.7972\n",
            "Epoch 23/100\n",
            "33/33 [==============================] - 0s 3ms/step - loss: 0.4345 - accuracy: 0.7991\n",
            "Epoch 24/100\n",
            "33/33 [==============================] - 0s 3ms/step - loss: 0.4301 - accuracy: 0.8066\n",
            "Epoch 25/100\n",
            "33/33 [==============================] - 0s 2ms/step - loss: 0.4237 - accuracy: 0.8076\n",
            "Epoch 26/100\n",
            "33/33 [==============================] - 0s 2ms/step - loss: 0.4177 - accuracy: 0.8161\n",
            "Epoch 27/100\n",
            "33/33 [==============================] - 0s 2ms/step - loss: 0.4154 - accuracy: 0.8114\n",
            "Epoch 28/100\n",
            "33/33 [==============================] - 1s 27ms/step - loss: 0.4122 - accuracy: 0.8123\n",
            "Epoch 29/100\n",
            "33/33 [==============================] - 1s 31ms/step - loss: 0.4079 - accuracy: 0.8237\n",
            "Epoch 30/100\n",
            "33/33 [==============================] - 1s 33ms/step - loss: 0.4027 - accuracy: 0.8161\n",
            "Epoch 31/100\n",
            "33/33 [==============================] - 0s 2ms/step - loss: 0.3989 - accuracy: 0.8237\n",
            "Epoch 32/100\n",
            "33/33 [==============================] - 0s 2ms/step - loss: 0.3948 - accuracy: 0.8180\n",
            "Epoch 33/100\n",
            "33/33 [==============================] - 0s 3ms/step - loss: 0.3914 - accuracy: 0.8341\n",
            "Epoch 34/100\n",
            "33/33 [==============================] - 0s 3ms/step - loss: 0.3888 - accuracy: 0.8275\n",
            "Epoch 35/100\n",
            "33/33 [==============================] - 0s 3ms/step - loss: 0.3850 - accuracy: 0.8246\n",
            "Epoch 36/100\n",
            "33/33 [==============================] - 0s 3ms/step - loss: 0.3810 - accuracy: 0.8322\n",
            "Epoch 37/100\n",
            "33/33 [==============================] - 0s 2ms/step - loss: 0.3791 - accuracy: 0.8284\n",
            "Epoch 38/100\n",
            "33/33 [==============================] - 0s 2ms/step - loss: 0.3776 - accuracy: 0.8332\n",
            "Epoch 39/100\n",
            "33/33 [==============================] - 0s 3ms/step - loss: 0.3743 - accuracy: 0.8332\n",
            "Epoch 40/100\n",
            "33/33 [==============================] - 0s 3ms/step - loss: 0.3735 - accuracy: 0.8341\n",
            "Epoch 41/100\n",
            "33/33 [==============================] - 0s 2ms/step - loss: 0.3691 - accuracy: 0.8370\n",
            "Epoch 42/100\n",
            "33/33 [==============================] - 0s 3ms/step - loss: 0.3673 - accuracy: 0.8284\n",
            "Epoch 43/100\n",
            "33/33 [==============================] - 0s 2ms/step - loss: 0.3642 - accuracy: 0.8370\n",
            "Epoch 44/100\n",
            "33/33 [==============================] - 0s 3ms/step - loss: 0.3629 - accuracy: 0.8351\n",
            "Epoch 45/100\n",
            "33/33 [==============================] - 0s 3ms/step - loss: 0.3590 - accuracy: 0.8408\n",
            "Epoch 46/100\n",
            "33/33 [==============================] - 0s 3ms/step - loss: 0.3592 - accuracy: 0.8417\n",
            "Epoch 47/100\n",
            "33/33 [==============================] - 0s 3ms/step - loss: 0.3569 - accuracy: 0.8398\n",
            "Epoch 48/100\n",
            "33/33 [==============================] - 0s 3ms/step - loss: 0.3542 - accuracy: 0.8417\n",
            "Epoch 49/100\n",
            "33/33 [==============================] - 0s 2ms/step - loss: 0.3528 - accuracy: 0.8417\n",
            "Epoch 50/100\n",
            "33/33 [==============================] - 0s 3ms/step - loss: 0.3488 - accuracy: 0.8398\n",
            "Epoch 51/100\n",
            "33/33 [==============================] - 0s 2ms/step - loss: 0.3462 - accuracy: 0.8455\n",
            "Epoch 52/100\n",
            "33/33 [==============================] - 0s 3ms/step - loss: 0.3476 - accuracy: 0.8351\n",
            "Epoch 53/100\n",
            "33/33 [==============================] - 0s 11ms/step - loss: 0.3450 - accuracy: 0.8540\n",
            "Epoch 54/100\n",
            "33/33 [==============================] - 0s 2ms/step - loss: 0.3412 - accuracy: 0.8436\n",
            "Epoch 55/100\n",
            "33/33 [==============================] - 0s 2ms/step - loss: 0.3409 - accuracy: 0.8521\n",
            "Epoch 56/100\n",
            "33/33 [==============================] - 0s 2ms/step - loss: 0.3402 - accuracy: 0.8493\n",
            "Epoch 57/100\n",
            "33/33 [==============================] - 0s 2ms/step - loss: 0.3384 - accuracy: 0.8512\n",
            "Epoch 58/100\n",
            "33/33 [==============================] - 0s 2ms/step - loss: 0.3353 - accuracy: 0.8483\n",
            "Epoch 59/100\n",
            "33/33 [==============================] - 0s 2ms/step - loss: 0.3334 - accuracy: 0.8550\n",
            "Epoch 60/100\n",
            "33/33 [==============================] - 0s 3ms/step - loss: 0.3329 - accuracy: 0.8578\n",
            "Epoch 61/100\n",
            "33/33 [==============================] - 0s 13ms/step - loss: 0.3309 - accuracy: 0.8502\n",
            "Epoch 62/100\n",
            "33/33 [==============================] - 0s 3ms/step - loss: 0.3352 - accuracy: 0.8493\n",
            "Epoch 63/100\n",
            "33/33 [==============================] - 0s 2ms/step - loss: 0.3279 - accuracy: 0.8502\n",
            "Epoch 64/100\n",
            "33/33 [==============================] - 0s 3ms/step - loss: 0.3250 - accuracy: 0.8512\n",
            "Epoch 65/100\n",
            "33/33 [==============================] - 0s 2ms/step - loss: 0.3258 - accuracy: 0.8512\n",
            "Epoch 66/100\n",
            "33/33 [==============================] - 0s 3ms/step - loss: 0.3220 - accuracy: 0.8550\n",
            "Epoch 67/100\n",
            "33/33 [==============================] - 0s 2ms/step - loss: 0.3230 - accuracy: 0.8493\n",
            "Epoch 68/100\n",
            "33/33 [==============================] - 0s 2ms/step - loss: 0.3207 - accuracy: 0.8597\n",
            "Epoch 69/100\n",
            "33/33 [==============================] - 0s 3ms/step - loss: 0.3199 - accuracy: 0.8502\n",
            "Epoch 70/100\n",
            "33/33 [==============================] - 1s 30ms/step - loss: 0.3157 - accuracy: 0.8578\n",
            "Epoch 71/100\n",
            "33/33 [==============================] - 1s 32ms/step - loss: 0.3158 - accuracy: 0.8607\n",
            "Epoch 72/100\n",
            "33/33 [==============================] - 0s 3ms/step - loss: 0.3145 - accuracy: 0.8588\n",
            "Epoch 73/100\n",
            "33/33 [==============================] - 0s 2ms/step - loss: 0.3135 - accuracy: 0.8540\n",
            "Epoch 74/100\n",
            "33/33 [==============================] - 0s 3ms/step - loss: 0.3128 - accuracy: 0.8550\n",
            "Epoch 75/100\n",
            "33/33 [==============================] - 0s 2ms/step - loss: 0.3090 - accuracy: 0.8597\n",
            "Epoch 76/100\n",
            "33/33 [==============================] - 0s 3ms/step - loss: 0.3086 - accuracy: 0.8578\n",
            "Epoch 77/100\n",
            "33/33 [==============================] - 0s 3ms/step - loss: 0.3053 - accuracy: 0.8616\n",
            "Epoch 78/100\n",
            "33/33 [==============================] - 0s 3ms/step - loss: 0.3064 - accuracy: 0.8673\n",
            "Epoch 79/100\n",
            "33/33 [==============================] - 0s 3ms/step - loss: 0.3042 - accuracy: 0.8654\n",
            "Epoch 80/100\n",
            "33/33 [==============================] - 0s 3ms/step - loss: 0.3048 - accuracy: 0.8597\n",
            "Epoch 81/100\n",
            "33/33 [==============================] - 0s 2ms/step - loss: 0.3055 - accuracy: 0.8597\n",
            "Epoch 82/100\n",
            "33/33 [==============================] - 0s 2ms/step - loss: 0.3073 - accuracy: 0.8588\n",
            "Epoch 83/100\n",
            "33/33 [==============================] - 0s 2ms/step - loss: 0.3016 - accuracy: 0.8635\n",
            "Epoch 84/100\n",
            "33/33 [==============================] - 0s 3ms/step - loss: 0.3054 - accuracy: 0.8531\n",
            "Epoch 85/100\n",
            "33/33 [==============================] - 0s 3ms/step - loss: 0.3040 - accuracy: 0.8645\n",
            "Epoch 86/100\n",
            "33/33 [==============================] - 0s 2ms/step - loss: 0.2977 - accuracy: 0.8645\n",
            "Epoch 87/100\n",
            "33/33 [==============================] - 0s 3ms/step - loss: 0.2945 - accuracy: 0.8597\n",
            "Epoch 88/100\n",
            "33/33 [==============================] - 0s 2ms/step - loss: 0.2943 - accuracy: 0.8673\n",
            "Epoch 89/100\n",
            "33/33 [==============================] - 0s 2ms/step - loss: 0.2952 - accuracy: 0.8739\n",
            "Epoch 90/100\n",
            "33/33 [==============================] - 1s 29ms/step - loss: 0.2914 - accuracy: 0.8654\n",
            "Epoch 91/100\n",
            "33/33 [==============================] - 1s 29ms/step - loss: 0.2920 - accuracy: 0.8664\n",
            "Epoch 92/100\n",
            "33/33 [==============================] - 1s 29ms/step - loss: 0.2907 - accuracy: 0.8730\n",
            "Epoch 93/100\n",
            "33/33 [==============================] - 0s 12ms/step - loss: 0.2917 - accuracy: 0.8645\n",
            "Epoch 94/100\n",
            "33/33 [==============================] - 0s 2ms/step - loss: 0.2922 - accuracy: 0.8645\n",
            "Epoch 95/100\n",
            "33/33 [==============================] - 0s 2ms/step - loss: 0.2906 - accuracy: 0.8682\n",
            "Epoch 96/100\n",
            "33/33 [==============================] - 0s 2ms/step - loss: 0.2870 - accuracy: 0.8758\n",
            "Epoch 97/100\n",
            "33/33 [==============================] - 0s 2ms/step - loss: 0.2860 - accuracy: 0.8730\n",
            "Epoch 98/100\n",
            "33/33 [==============================] - 0s 2ms/step - loss: 0.2863 - accuracy: 0.8720\n",
            "Epoch 99/100\n",
            "33/33 [==============================] - 0s 3ms/step - loss: 0.2866 - accuracy: 0.8682\n",
            "Epoch 100/100\n",
            "33/33 [==============================] - 0s 2ms/step - loss: 0.2867 - accuracy: 0.8673\n"
          ]
        }
      ]
    },
    {
      "cell_type": "code",
      "source": [
        "model2_eval=ann1.evaluate(X_test,y_test)"
      ],
      "metadata": {
        "colab": {
          "base_uri": "https://localhost:8080/"
        },
        "id": "Oya-MBixXtjN",
        "outputId": "4f34c035-8cde-4af3-dedd-4206dc7f2439"
      },
      "execution_count": 86,
      "outputs": [
        {
          "output_type": "stream",
          "name": "stdout",
          "text": [
            "9/9 [==============================] - 1s 119ms/step - loss: 0.3612 - accuracy: 0.8182\n"
          ]
        }
      ]
    },
    {
      "cell_type": "code",
      "source": [
        "model2_train=ann1.evaluate(X_train,y_train) #comparing with X_test to check for overfiiting"
      ],
      "metadata": {
        "colab": {
          "base_uri": "https://localhost:8080/"
        },
        "id": "lQGridelb9AW",
        "outputId": "9b4580eb-1c5f-4fe0-9387-0109b53e57a5"
      },
      "execution_count": 98,
      "outputs": [
        {
          "output_type": "stream",
          "name": "stdout",
          "text": [
            "33/33 [==============================] - 1s 29ms/step - loss: 0.2824 - accuracy: 0.8758\n"
          ]
        }
      ]
    },
    {
      "cell_type": "code",
      "source": [
        "model_result=[['model 1',model1_eval],     ##testing accuracy\n",
        "              ['model 2',model2_eval]]"
      ],
      "metadata": {
        "id": "Mu0G_3eyYUoG"
      },
      "execution_count": 102,
      "outputs": []
    },
    {
      "cell_type": "code",
      "source": [
        "model_result"
      ],
      "metadata": {
        "colab": {
          "base_uri": "https://localhost:8080/"
        },
        "id": "a5RrXwtRYjVA",
        "outputId": "cfc6de5e-6114-44de-911d-db5b69cc9517"
      },
      "execution_count": 103,
      "outputs": [
        {
          "output_type": "execute_result",
          "data": {
            "text/plain": [
              "[['model 1', [0.3578972816467285, 0.8030303120613098]],\n",
              " ['model 2', [0.36122941970825195, 0.8181818127632141]]]"
            ]
          },
          "metadata": {},
          "execution_count": 103
        }
      ]
    },
    {
      "cell_type": "code",
      "source": [
        "model_train=[['model 1',model1_train],       ##training accuracy\n",
        "              ['model 2',model2_train]]"
      ],
      "metadata": {
        "id": "sWGjbOkjdBkB"
      },
      "execution_count": 107,
      "outputs": []
    },
    {
      "cell_type": "code",
      "source": [
        "model_train"
      ],
      "metadata": {
        "colab": {
          "base_uri": "https://localhost:8080/"
        },
        "id": "LCvREQEddLmL",
        "outputId": "4baaaaa3-d463-40dc-dc90-85bcf6c4e824"
      },
      "execution_count": 108,
      "outputs": [
        {
          "output_type": "execute_result",
          "data": {
            "text/plain": [
              "[['model 1', [0.16361568868160248, 0.9421800971031189]],\n",
              " ['model 2', [0.28240394592285156, 0.8758293986320496]]]"
            ]
          },
          "metadata": {},
          "execution_count": 108
        }
      ]
    },
    {
      "cell_type": "code",
      "source": [
        "pd.DataFrame(history2.history).plot()\n"
      ],
      "metadata": {
        "colab": {
          "base_uri": "https://localhost:8080/",
          "height": 449
        },
        "id": "_KJZ9ee7Yk4t",
        "outputId": "2908fa4f-d540-4743-a0ce-9e2e35bfe854"
      },
      "execution_count": 89,
      "outputs": [
        {
          "output_type": "execute_result",
          "data": {
            "text/plain": [
              "<Axes: >"
            ]
          },
          "metadata": {},
          "execution_count": 89
        },
        {
          "output_type": "display_data",
          "data": {
            "text/plain": [
              "<Figure size 640x480 with 1 Axes>"
            ],
            "image/png": "[encoded data removed]"
          },
          "metadata": {}
        }
      ]
    },
    {
      "cell_type": "code",
      "source": [
        "y_pred2=ann1.predict(X_test)"
      ],
      "metadata": {
        "colab": {
          "base_uri": "https://localhost:8080/"
        },
        "id": "QkTm7qHAYtuj",
        "outputId": "90391167-d668-4738-92c1-7b8104dabe23"
      },
      "execution_count": 76,
      "outputs": [
        {
          "output_type": "stream",
          "name": "stdout",
          "text": [
            "9/9 [==============================] - 1s 70ms/step\n"
          ]
        }
      ]
    },
    {
      "cell_type": "code",
      "source": [
        "y_pred2=y_pred2 > 0.5"
      ],
      "metadata": {
        "id": "qq6mJncjZFVi"
      },
      "execution_count": 77,
      "outputs": []
    },
    {
      "cell_type": "code",
      "source": [
        "from sklearn.metrics import confusion_matrix\n",
        "plt.figure(figsize=(10,7))\n",
        "sns.heatmap(confusion_matrix(y_test, y_pred2), annot=True, fmt='d', cmap='Blues')\n",
        "plt.xlabel('Predicted')\n",
        "plt.ylabel('Actual')\n",
        "plt.title('Confusion Matrix')\n",
        "plt.show()"
      ],
      "metadata": {
        "colab": {
          "base_uri": "https://localhost:8080/",
          "height": 641
        },
        "id": "5LA91nnQZFjv",
        "outputId": "b9b5786d-5e20-46da-bdb0-a823b9cf6219"
      },
      "execution_count": 124,
      "outputs": [
        {
          "output_type": "display_data",
          "data": {
            "text/plain": [
              "<Figure size 1000x700 with 2 Axes>"
            ],
            "image/png": "[encoded data removed]"
          },
          "metadata": {}
        }
      ]
    },
    {
      "cell_type": "code",
      "source": [
        "from sklearn.metrics import classification_report #Precision, recall, f1-score and support\n",
        "print(classification_report(y_test, y_pred2))"
      ],
      "metadata": {
        "colab": {
          "base_uri": "https://localhost:8080/"
        },
        "id": "CIwAzjrQZWhX",
        "outputId": "d5d3d596-c6e7-4e1f-c08b-debdc6fe032e"
      },
      "execution_count": 90,
      "outputs": [
        {
          "output_type": "stream",
          "name": "stdout",
          "text": [
            "              precision    recall  f1-score   support\n",
            "\n",
            "           0       0.47      0.54      0.50       106\n",
            "           1       0.65      0.59      0.62       158\n",
            "\n",
            "    accuracy                           0.57       264\n",
            "   macro avg       0.56      0.56      0.56       264\n",
            "weighted avg       0.58      0.57      0.57       264\n",
            "\n"
          ]
        }
      ]
    },
    {
      "cell_type": "markdown",
      "source": [
        "## we will use the second model and increase the epochs"
      ],
      "metadata": {
        "id": "pzPLuuPDZvEC"
      }
    },
    {
      "cell_type": "code",
      "source": [
        "ann3=tf.keras.models.Sequential()"
      ],
      "metadata": {
        "id": "2maPYmN-Zhn1"
      },
      "execution_count": 109,
      "outputs": []
    },
    {
      "cell_type": "code",
      "source": [
        "ann3.add(tf.keras.layers.Dense(units=30,activation='relu'))"
      ],
      "metadata": {
        "id": "Y-876WrfZ7_L"
      },
      "execution_count": 110,
      "outputs": []
    },
    {
      "cell_type": "code",
      "source": [
        "ann3.add(tf.keras.layers.Dense(units=9,activation='relu'))"
      ],
      "metadata": {
        "id": "hZxakCc2aDEZ"
      },
      "execution_count": 111,
      "outputs": []
    },
    {
      "cell_type": "code",
      "source": [
        "ann3.add(tf.keras.layers.Dense(units=1,activation='sigmoid'))"
      ],
      "metadata": {
        "id": "bVF1YsU_aEon"
      },
      "execution_count": 112,
      "outputs": []
    },
    {
      "cell_type": "code",
      "source": [
        "ann3.compile(optimizer='adam',loss='binary_crossentropy',metrics=['accuracy'])"
      ],
      "metadata": {
        "id": "m7sWvB2OaKs1"
      },
      "execution_count": 113,
      "outputs": []
    },
    {
      "cell_type": "code",
      "source": [
        "history3=ann3.fit(X_train,y_train,batch_size=32,epochs=200)"
      ],
      "metadata": {
        "colab": {
          "base_uri": "https://localhost:8080/"
        },
        "id": "Iz6QoDsQaTrX",
        "outputId": "20156ed3-7932-479a-e6ec-ebc84d585f41"
      },
      "execution_count": 114,
      "outputs": [
        {
          "output_type": "stream",
          "name": "stdout",
          "text": [
            "Epoch 1/200\n",
            "33/33 [==============================] - 1s 5ms/step - loss: 0.6848 - accuracy: 0.5924\n",
            "Epoch 2/200\n",
            "33/33 [==============================] - 1s 30ms/step - loss: 0.6430 - accuracy: 0.6066\n",
            "Epoch 3/200\n",
            "33/33 [==============================] - 0s 2ms/step - loss: 0.6187 - accuracy: 0.6445\n",
            "Epoch 4/200\n",
            "33/33 [==============================] - 0s 2ms/step - loss: 0.6021 - accuracy: 0.6654\n",
            "Epoch 5/200\n",
            "33/33 [==============================] - 0s 2ms/step - loss: 0.5888 - accuracy: 0.6872\n",
            "Epoch 6/200\n",
            "33/33 [==============================] - 0s 2ms/step - loss: 0.5775 - accuracy: 0.7024\n",
            "Epoch 7/200\n",
            "33/33 [==============================] - 0s 3ms/step - loss: 0.5661 - accuracy: 0.7090\n",
            "Epoch 8/200\n",
            "33/33 [==============================] - 0s 2ms/step - loss: 0.5564 - accuracy: 0.7232\n",
            "Epoch 9/200\n",
            "33/33 [==============================] - 0s 2ms/step - loss: 0.5446 - accuracy: 0.7374\n",
            "Epoch 10/200\n",
            "33/33 [==============================] - 0s 2ms/step - loss: 0.5354 - accuracy: 0.7450\n",
            "Epoch 11/200\n",
            "33/33 [==============================] - 1s 45ms/step - loss: 0.5248 - accuracy: 0.7488\n",
            "Epoch 12/200\n",
            "33/33 [==============================] - 1s 29ms/step - loss: 0.5142 - accuracy: 0.7469\n",
            "Epoch 13/200\n",
            "33/33 [==============================] - 1s 31ms/step - loss: 0.5049 - accuracy: 0.7545\n",
            "Epoch 14/200\n",
            "33/33 [==============================] - 1s 31ms/step - loss: 0.4975 - accuracy: 0.7602\n",
            "Epoch 15/200\n",
            "33/33 [==============================] - 1s 29ms/step - loss: 0.4879 - accuracy: 0.7744\n",
            "Epoch 16/200\n",
            "33/33 [==============================] - 0s 12ms/step - loss: 0.4778 - accuracy: 0.7791\n",
            "Epoch 17/200\n",
            "33/33 [==============================] - 0s 2ms/step - loss: 0.4708 - accuracy: 0.7763\n",
            "Epoch 18/200\n",
            "33/33 [==============================] - 0s 3ms/step - loss: 0.4632 - accuracy: 0.7867\n",
            "Epoch 19/200\n",
            "33/33 [==============================] - 0s 2ms/step - loss: 0.4568 - accuracy: 0.7905\n",
            "Epoch 20/200\n",
            "33/33 [==============================] - 0s 2ms/step - loss: 0.4484 - accuracy: 0.7924\n",
            "Epoch 21/200\n",
            "33/33 [==============================] - 0s 3ms/step - loss: 0.4415 - accuracy: 0.7962\n",
            "Epoch 22/200\n",
            "33/33 [==============================] - 0s 3ms/step - loss: 0.4365 - accuracy: 0.8019\n",
            "Epoch 23/200\n",
            "33/33 [==============================] - 0s 3ms/step - loss: 0.4304 - accuracy: 0.8104\n",
            "Epoch 24/200\n",
            "33/33 [==============================] - 0s 3ms/step - loss: 0.4259 - accuracy: 0.8104\n",
            "Epoch 25/200\n",
            "33/33 [==============================] - 0s 3ms/step - loss: 0.4208 - accuracy: 0.8180\n",
            "Epoch 26/200\n",
            "33/33 [==============================] - 0s 3ms/step - loss: 0.4169 - accuracy: 0.8161\n",
            "Epoch 27/200\n",
            "33/33 [==============================] - 0s 2ms/step - loss: 0.4101 - accuracy: 0.8199\n",
            "Epoch 28/200\n",
            "33/33 [==============================] - 0s 2ms/step - loss: 0.4077 - accuracy: 0.8180\n",
            "Epoch 29/200\n",
            "33/33 [==============================] - 1s 29ms/step - loss: 0.4058 - accuracy: 0.8294\n",
            "Epoch 30/200\n",
            "33/33 [==============================] - 1s 29ms/step - loss: 0.4011 - accuracy: 0.8218\n",
            "Epoch 31/200\n",
            "33/33 [==============================] - 0s 3ms/step - loss: 0.3957 - accuracy: 0.8237\n",
            "Epoch 32/200\n",
            "33/33 [==============================] - 0s 3ms/step - loss: 0.3913 - accuracy: 0.8199\n",
            "Epoch 33/200\n",
            "33/33 [==============================] - 0s 2ms/step - loss: 0.3904 - accuracy: 0.8199\n",
            "Epoch 34/200\n",
            "33/33 [==============================] - 0s 3ms/step - loss: 0.3848 - accuracy: 0.8256\n",
            "Epoch 35/200\n",
            "33/33 [==============================] - 0s 2ms/step - loss: 0.3833 - accuracy: 0.8294\n",
            "Epoch 36/200\n",
            "33/33 [==============================] - 0s 3ms/step - loss: 0.3799 - accuracy: 0.8209\n",
            "Epoch 37/200\n",
            "33/33 [==============================] - 0s 3ms/step - loss: 0.3768 - accuracy: 0.8303\n",
            "Epoch 38/200\n",
            "33/33 [==============================] - 0s 3ms/step - loss: 0.3752 - accuracy: 0.8199\n",
            "Epoch 39/200\n",
            "33/33 [==============================] - 0s 9ms/step - loss: 0.3735 - accuracy: 0.8313\n",
            "Epoch 40/200\n",
            "33/33 [==============================] - 0s 2ms/step - loss: 0.3694 - accuracy: 0.8275\n",
            "Epoch 41/200\n",
            "33/33 [==============================] - 0s 2ms/step - loss: 0.3677 - accuracy: 0.8313\n",
            "Epoch 42/200\n",
            "33/33 [==============================] - 0s 2ms/step - loss: 0.3687 - accuracy: 0.8322\n",
            "Epoch 43/200\n",
            "33/33 [==============================] - 0s 3ms/step - loss: 0.3624 - accuracy: 0.8313\n",
            "Epoch 44/200\n",
            "33/33 [==============================] - 0s 2ms/step - loss: 0.3604 - accuracy: 0.8370\n",
            "Epoch 45/200\n",
            "33/33 [==============================] - 0s 2ms/step - loss: 0.3595 - accuracy: 0.8341\n",
            "Epoch 46/200\n",
            "33/33 [==============================] - 0s 3ms/step - loss: 0.3569 - accuracy: 0.8341\n",
            "Epoch 47/200\n",
            "33/33 [==============================] - 0s 13ms/step - loss: 0.3523 - accuracy: 0.8436\n",
            "Epoch 48/200\n",
            "33/33 [==============================] - 0s 2ms/step - loss: 0.3514 - accuracy: 0.8351\n",
            "Epoch 49/200\n",
            "33/33 [==============================] - 0s 2ms/step - loss: 0.3533 - accuracy: 0.8360\n",
            "Epoch 50/200\n",
            "33/33 [==============================] - 0s 3ms/step - loss: 0.3501 - accuracy: 0.8332\n",
            "Epoch 51/200\n",
            "33/33 [==============================] - 0s 2ms/step - loss: 0.3457 - accuracy: 0.8483\n",
            "Epoch 52/200\n",
            "33/33 [==============================] - 0s 3ms/step - loss: 0.3469 - accuracy: 0.8379\n",
            "Epoch 53/200\n",
            "33/33 [==============================] - 0s 3ms/step - loss: 0.3429 - accuracy: 0.8398\n",
            "Epoch 54/200\n",
            "33/33 [==============================] - 0s 2ms/step - loss: 0.3407 - accuracy: 0.8493\n",
            "Epoch 55/200\n",
            "33/33 [==============================] - 0s 2ms/step - loss: 0.3382 - accuracy: 0.8493\n",
            "Epoch 56/200\n",
            "33/33 [==============================] - 1s 32ms/step - loss: 0.3394 - accuracy: 0.8341\n",
            "Epoch 57/200\n",
            "33/33 [==============================] - 1s 28ms/step - loss: 0.3403 - accuracy: 0.8474\n",
            "Epoch 58/200\n",
            "33/33 [==============================] - 1s 29ms/step - loss: 0.3345 - accuracy: 0.8512\n",
            "Epoch 59/200\n",
            "33/33 [==============================] - 1s 28ms/step - loss: 0.3340 - accuracy: 0.8483\n",
            "Epoch 60/200\n",
            "33/33 [==============================] - 0s 12ms/step - loss: 0.3310 - accuracy: 0.8474\n",
            "Epoch 61/200\n",
            "33/33 [==============================] - 0s 3ms/step - loss: 0.3312 - accuracy: 0.8398\n",
            "Epoch 62/200\n",
            "33/33 [==============================] - 0s 2ms/step - loss: 0.3273 - accuracy: 0.8493\n",
            "Epoch 63/200\n",
            "33/33 [==============================] - 0s 2ms/step - loss: 0.3254 - accuracy: 0.8512\n",
            "Epoch 64/200\n",
            "33/33 [==============================] - 0s 2ms/step - loss: 0.3268 - accuracy: 0.8455\n",
            "Epoch 65/200\n",
            "33/33 [==============================] - 0s 2ms/step - loss: 0.3251 - accuracy: 0.8483\n",
            "Epoch 66/200\n",
            "33/33 [==============================] - 0s 3ms/step - loss: 0.3224 - accuracy: 0.8569\n",
            "Epoch 67/200\n",
            "33/33 [==============================] - 0s 2ms/step - loss: 0.3204 - accuracy: 0.8569\n",
            "Epoch 68/200\n",
            "33/33 [==============================] - 0s 3ms/step - loss: 0.3205 - accuracy: 0.8445\n",
            "Epoch 69/200\n",
            "33/33 [==============================] - 0s 3ms/step - loss: 0.3184 - accuracy: 0.8521\n",
            "Epoch 70/200\n",
            "33/33 [==============================] - 0s 2ms/step - loss: 0.3171 - accuracy: 0.8540\n",
            "Epoch 71/200\n",
            "33/33 [==============================] - 0s 2ms/step - loss: 0.3152 - accuracy: 0.8607\n",
            "Epoch 72/200\n",
            "33/33 [==============================] - 0s 2ms/step - loss: 0.3136 - accuracy: 0.8512\n",
            "Epoch 73/200\n",
            "33/33 [==============================] - 0s 3ms/step - loss: 0.3130 - accuracy: 0.8464\n",
            "Epoch 74/200\n",
            "33/33 [==============================] - 0s 2ms/step - loss: 0.3121 - accuracy: 0.8559\n",
            "Epoch 75/200\n",
            "33/33 [==============================] - 0s 2ms/step - loss: 0.3085 - accuracy: 0.8569\n",
            "Epoch 76/200\n",
            "33/33 [==============================] - 0s 2ms/step - loss: 0.3108 - accuracy: 0.8559\n",
            "Epoch 77/200\n",
            "33/33 [==============================] - 1s 30ms/step - loss: 0.3086 - accuracy: 0.8588\n",
            "Epoch 78/200\n",
            "33/33 [==============================] - 1s 30ms/step - loss: 0.3080 - accuracy: 0.8483\n",
            "Epoch 79/200\n",
            "33/33 [==============================] - 1s 30ms/step - loss: 0.3070 - accuracy: 0.8569\n",
            "Epoch 80/200\n",
            "33/33 [==============================] - 1s 29ms/step - loss: 0.3040 - accuracy: 0.8645\n",
            "Epoch 81/200\n",
            "33/33 [==============================] - 0s 11ms/step - loss: 0.3025 - accuracy: 0.8559\n",
            "Epoch 82/200\n",
            "33/33 [==============================] - 0s 2ms/step - loss: 0.3011 - accuracy: 0.8540\n",
            "Epoch 83/200\n",
            "33/33 [==============================] - 0s 3ms/step - loss: 0.3031 - accuracy: 0.8588\n",
            "Epoch 84/200\n",
            "33/33 [==============================] - 0s 2ms/step - loss: 0.3040 - accuracy: 0.8569\n",
            "Epoch 85/200\n",
            "33/33 [==============================] - 0s 2ms/step - loss: 0.3000 - accuracy: 0.8569\n",
            "Epoch 86/200\n",
            "33/33 [==============================] - 0s 2ms/step - loss: 0.2973 - accuracy: 0.8626\n",
            "Epoch 87/200\n",
            "33/33 [==============================] - 0s 2ms/step - loss: 0.2971 - accuracy: 0.8682\n",
            "Epoch 88/200\n",
            "33/33 [==============================] - 0s 3ms/step - loss: 0.2987 - accuracy: 0.8645\n",
            "Epoch 89/200\n",
            "33/33 [==============================] - 0s 11ms/step - loss: 0.2990 - accuracy: 0.8588\n",
            "Epoch 90/200\n",
            "33/33 [==============================] - 0s 3ms/step - loss: 0.2931 - accuracy: 0.8645\n",
            "Epoch 91/200\n",
            "33/33 [==============================] - 0s 3ms/step - loss: 0.2926 - accuracy: 0.8645\n",
            "Epoch 92/200\n",
            "33/33 [==============================] - 0s 2ms/step - loss: 0.2934 - accuracy: 0.8616\n",
            "Epoch 93/200\n",
            "33/33 [==============================] - 0s 2ms/step - loss: 0.2915 - accuracy: 0.8701\n",
            "Epoch 94/200\n",
            "33/33 [==============================] - 0s 2ms/step - loss: 0.2934 - accuracy: 0.8607\n",
            "Epoch 95/200\n",
            "33/33 [==============================] - 0s 3ms/step - loss: 0.2896 - accuracy: 0.8654\n",
            "Epoch 96/200\n",
            "33/33 [==============================] - 0s 2ms/step - loss: 0.2876 - accuracy: 0.8739\n",
            "Epoch 97/200\n",
            "33/33 [==============================] - 0s 3ms/step - loss: 0.2906 - accuracy: 0.8607\n",
            "Epoch 98/200\n",
            "33/33 [==============================] - 0s 3ms/step - loss: 0.2850 - accuracy: 0.8749\n",
            "Epoch 99/200\n",
            "33/33 [==============================] - 0s 2ms/step - loss: 0.2954 - accuracy: 0.8664\n",
            "Epoch 100/200\n",
            "33/33 [==============================] - 2s 59ms/step - loss: 0.2906 - accuracy: 0.8635\n",
            "Epoch 101/200\n",
            "33/33 [==============================] - 1s 29ms/step - loss: 0.2868 - accuracy: 0.8664\n",
            "Epoch 102/200\n",
            "33/33 [==============================] - 1s 30ms/step - loss: 0.2870 - accuracy: 0.8673\n",
            "Epoch 103/200\n",
            "33/33 [==============================] - 1s 29ms/step - loss: 0.2867 - accuracy: 0.8682\n",
            "Epoch 104/200\n",
            "33/33 [==============================] - 1s 28ms/step - loss: 0.2836 - accuracy: 0.8645\n",
            "Epoch 105/200\n",
            "33/33 [==============================] - 0s 13ms/step - loss: 0.2882 - accuracy: 0.8682\n",
            "Epoch 106/200\n",
            "33/33 [==============================] - 0s 2ms/step - loss: 0.2822 - accuracy: 0.8701\n",
            "Epoch 107/200\n",
            "33/33 [==============================] - 0s 3ms/step - loss: 0.2801 - accuracy: 0.8768\n",
            "Epoch 108/200\n",
            "33/33 [==============================] - 0s 2ms/step - loss: 0.2806 - accuracy: 0.8720\n",
            "Epoch 109/200\n",
            "33/33 [==============================] - 0s 2ms/step - loss: 0.2802 - accuracy: 0.8749\n",
            "Epoch 110/200\n",
            "33/33 [==============================] - 0s 2ms/step - loss: 0.2788 - accuracy: 0.8682\n",
            "Epoch 111/200\n",
            "33/33 [==============================] - 0s 2ms/step - loss: 0.2790 - accuracy: 0.8673\n",
            "Epoch 112/200\n",
            "33/33 [==============================] - 0s 3ms/step - loss: 0.2775 - accuracy: 0.8768\n",
            "Epoch 113/200\n",
            "33/33 [==============================] - 0s 3ms/step - loss: 0.2782 - accuracy: 0.8692\n",
            "Epoch 114/200\n",
            "33/33 [==============================] - 0s 2ms/step - loss: 0.2772 - accuracy: 0.8787\n",
            "Epoch 115/200\n",
            "33/33 [==============================] - 0s 2ms/step - loss: 0.2747 - accuracy: 0.8777\n",
            "Epoch 116/200\n",
            "33/33 [==============================] - 0s 3ms/step - loss: 0.2753 - accuracy: 0.8806\n",
            "Epoch 117/200\n",
            "33/33 [==============================] - 0s 2ms/step - loss: 0.2780 - accuracy: 0.8777\n",
            "Epoch 118/200\n",
            "33/33 [==============================] - 0s 3ms/step - loss: 0.2732 - accuracy: 0.8749\n",
            "Epoch 119/200\n",
            "33/33 [==============================] - 0s 2ms/step - loss: 0.2721 - accuracy: 0.8749\n",
            "Epoch 120/200\n",
            "33/33 [==============================] - 0s 2ms/step - loss: 0.2707 - accuracy: 0.8815\n",
            "Epoch 121/200\n",
            "33/33 [==============================] - 0s 2ms/step - loss: 0.2690 - accuracy: 0.8777\n",
            "Epoch 122/200\n",
            "33/33 [==============================] - 0s 3ms/step - loss: 0.2717 - accuracy: 0.8844\n",
            "Epoch 123/200\n",
            "33/33 [==============================] - 0s 3ms/step - loss: 0.2684 - accuracy: 0.8929\n",
            "Epoch 124/200\n",
            "33/33 [==============================] - 0s 2ms/step - loss: 0.2670 - accuracy: 0.8825\n",
            "Epoch 125/200\n",
            "33/33 [==============================] - 0s 3ms/step - loss: 0.2658 - accuracy: 0.8882\n",
            "Epoch 126/200\n",
            "33/33 [==============================] - 0s 3ms/step - loss: 0.2678 - accuracy: 0.8787\n",
            "Epoch 127/200\n",
            "33/33 [==============================] - 0s 3ms/step - loss: 0.2650 - accuracy: 0.8787\n",
            "Epoch 128/200\n",
            "33/33 [==============================] - 0s 2ms/step - loss: 0.2668 - accuracy: 0.8834\n",
            "Epoch 129/200\n",
            "33/33 [==============================] - 0s 3ms/step - loss: 0.2662 - accuracy: 0.8806\n",
            "Epoch 130/200\n",
            "33/33 [==============================] - 0s 2ms/step - loss: 0.2664 - accuracy: 0.8853\n",
            "Epoch 131/200\n",
            "33/33 [==============================] - 0s 3ms/step - loss: 0.2643 - accuracy: 0.8815\n",
            "Epoch 132/200\n",
            "33/33 [==============================] - 0s 3ms/step - loss: 0.2622 - accuracy: 0.8900\n",
            "Epoch 133/200\n",
            "33/33 [==============================] - 0s 3ms/step - loss: 0.2603 - accuracy: 0.8834\n",
            "Epoch 134/200\n",
            "33/33 [==============================] - 0s 2ms/step - loss: 0.2617 - accuracy: 0.8900\n",
            "Epoch 135/200\n",
            "33/33 [==============================] - 0s 3ms/step - loss: 0.2629 - accuracy: 0.8844\n",
            "Epoch 136/200\n",
            "33/33 [==============================] - 1s 5ms/step - loss: 0.2629 - accuracy: 0.8872\n",
            "Epoch 137/200\n",
            "33/33 [==============================] - 0s 3ms/step - loss: 0.2587 - accuracy: 0.8910\n",
            "Epoch 138/200\n",
            "33/33 [==============================] - 1s 27ms/step - loss: 0.2603 - accuracy: 0.8910\n",
            "Epoch 139/200\n",
            "33/33 [==============================] - 1s 29ms/step - loss: 0.2563 - accuracy: 0.8919\n",
            "Epoch 140/200\n",
            "33/33 [==============================] - 1s 29ms/step - loss: 0.2650 - accuracy: 0.8929\n",
            "Epoch 141/200\n",
            "33/33 [==============================] - 0s 12ms/step - loss: 0.2537 - accuracy: 0.9024\n",
            "Epoch 142/200\n",
            "33/33 [==============================] - 0s 2ms/step - loss: 0.2570 - accuracy: 0.8900\n",
            "Epoch 143/200\n",
            "33/33 [==============================] - 0s 3ms/step - loss: 0.2537 - accuracy: 0.8967\n",
            "Epoch 144/200\n",
            "33/33 [==============================] - 0s 2ms/step - loss: 0.2571 - accuracy: 0.8900\n",
            "Epoch 145/200\n",
            "33/33 [==============================] - 0s 3ms/step - loss: 0.2528 - accuracy: 0.9081\n",
            "Epoch 146/200\n",
            "33/33 [==============================] - 0s 3ms/step - loss: 0.2525 - accuracy: 0.8919\n",
            "Epoch 147/200\n",
            "33/33 [==============================] - 0s 2ms/step - loss: 0.2528 - accuracy: 0.8853\n",
            "Epoch 148/200\n",
            "33/33 [==============================] - 0s 13ms/step - loss: 0.2506 - accuracy: 0.9005\n",
            "Epoch 149/200\n",
            "33/33 [==============================] - 0s 2ms/step - loss: 0.2508 - accuracy: 0.9014\n",
            "Epoch 150/200\n",
            "33/33 [==============================] - 0s 2ms/step - loss: 0.2505 - accuracy: 0.8986\n",
            "Epoch 151/200\n",
            "33/33 [==============================] - 0s 3ms/step - loss: 0.2475 - accuracy: 0.9024\n",
            "Epoch 152/200\n",
            "33/33 [==============================] - 0s 2ms/step - loss: 0.2465 - accuracy: 0.9005\n",
            "Epoch 153/200\n",
            "33/33 [==============================] - 0s 3ms/step - loss: 0.2520 - accuracy: 0.8967\n",
            "Epoch 154/200\n",
            "33/33 [==============================] - 0s 2ms/step - loss: 0.2485 - accuracy: 0.8967\n",
            "Epoch 155/200\n",
            "33/33 [==============================] - 0s 3ms/step - loss: 0.2471 - accuracy: 0.8995\n",
            "Epoch 156/200\n",
            "33/33 [==============================] - 0s 3ms/step - loss: 0.2507 - accuracy: 0.8995\n",
            "Epoch 157/200\n",
            "33/33 [==============================] - 0s 3ms/step - loss: 0.2457 - accuracy: 0.9090\n",
            "Epoch 158/200\n",
            "33/33 [==============================] - 0s 3ms/step - loss: 0.2509 - accuracy: 0.8967\n",
            "Epoch 159/200\n",
            "33/33 [==============================] - 0s 3ms/step - loss: 0.2467 - accuracy: 0.8995\n",
            "Epoch 160/200\n",
            "33/33 [==============================] - 0s 2ms/step - loss: 0.2454 - accuracy: 0.8976\n",
            "Epoch 161/200\n",
            "33/33 [==============================] - 0s 2ms/step - loss: 0.2441 - accuracy: 0.9005\n",
            "Epoch 162/200\n",
            "33/33 [==============================] - 0s 2ms/step - loss: 0.2464 - accuracy: 0.8976\n",
            "Epoch 163/200\n",
            "33/33 [==============================] - 0s 3ms/step - loss: 0.2427 - accuracy: 0.9033\n",
            "Epoch 164/200\n",
            "33/33 [==============================] - 0s 2ms/step - loss: 0.2407 - accuracy: 0.8995\n",
            "Epoch 165/200\n",
            "33/33 [==============================] - 0s 3ms/step - loss: 0.2410 - accuracy: 0.9033\n",
            "Epoch 166/200\n",
            "33/33 [==============================] - 0s 3ms/step - loss: 0.2428 - accuracy: 0.9071\n",
            "Epoch 167/200\n",
            "33/33 [==============================] - 0s 2ms/step - loss: 0.2424 - accuracy: 0.8948\n",
            "Epoch 168/200\n",
            "33/33 [==============================] - 0s 2ms/step - loss: 0.2441 - accuracy: 0.8948\n",
            "Epoch 169/200\n",
            "33/33 [==============================] - 0s 3ms/step - loss: 0.2416 - accuracy: 0.8976\n",
            "Epoch 170/200\n",
            "33/33 [==============================] - 1s 27ms/step - loss: 0.2472 - accuracy: 0.8929\n",
            "Epoch 171/200\n",
            "33/33 [==============================] - 0s 3ms/step - loss: 0.2358 - accuracy: 0.9081\n",
            "Epoch 172/200\n",
            "33/33 [==============================] - 1s 32ms/step - loss: 0.2381 - accuracy: 0.9100\n",
            "Epoch 173/200\n",
            "33/33 [==============================] - 1s 30ms/step - loss: 0.2374 - accuracy: 0.9033\n",
            "Epoch 174/200\n",
            "33/33 [==============================] - 0s 12ms/step - loss: 0.2375 - accuracy: 0.9043\n",
            "Epoch 175/200\n",
            "33/33 [==============================] - 0s 2ms/step - loss: 0.2357 - accuracy: 0.9033\n",
            "Epoch 176/200\n",
            "33/33 [==============================] - 0s 2ms/step - loss: 0.2363 - accuracy: 0.9043\n",
            "Epoch 177/200\n",
            "33/33 [==============================] - 0s 2ms/step - loss: 0.2347 - accuracy: 0.9081\n",
            "Epoch 178/200\n",
            "33/33 [==============================] - 0s 2ms/step - loss: 0.2413 - accuracy: 0.8967\n",
            "Epoch 179/200\n",
            "33/33 [==============================] - 0s 2ms/step - loss: 0.2336 - accuracy: 0.9081\n",
            "Epoch 180/200\n",
            "33/33 [==============================] - 0s 3ms/step - loss: 0.2336 - accuracy: 0.9062\n",
            "Epoch 181/200\n",
            "33/33 [==============================] - 0s 3ms/step - loss: 0.2320 - accuracy: 0.9090\n",
            "Epoch 182/200\n",
            "33/33 [==============================] - 0s 2ms/step - loss: 0.2332 - accuracy: 0.9081\n",
            "Epoch 183/200\n",
            "33/33 [==============================] - 0s 2ms/step - loss: 0.2362 - accuracy: 0.9043\n",
            "Epoch 184/200\n",
            "33/33 [==============================] - 0s 2ms/step - loss: 0.2318 - accuracy: 0.9128\n",
            "Epoch 185/200\n",
            "33/33 [==============================] - 0s 2ms/step - loss: 0.2303 - accuracy: 0.9052\n",
            "Epoch 186/200\n",
            "33/33 [==============================] - 0s 2ms/step - loss: 0.2306 - accuracy: 0.9081\n",
            "Epoch 187/200\n",
            "33/33 [==============================] - 0s 2ms/step - loss: 0.2312 - accuracy: 0.9128\n",
            "Epoch 188/200\n",
            "33/33 [==============================] - 0s 3ms/step - loss: 0.2294 - accuracy: 0.9090\n",
            "Epoch 189/200\n",
            "33/33 [==============================] - 0s 3ms/step - loss: 0.2329 - accuracy: 0.9043\n",
            "Epoch 190/200\n",
            "33/33 [==============================] - 0s 2ms/step - loss: 0.2276 - accuracy: 0.9090\n",
            "Epoch 191/200\n",
            "33/33 [==============================] - 1s 30ms/step - loss: 0.2266 - accuracy: 0.9137\n",
            "Epoch 192/200\n",
            "33/33 [==============================] - 1s 29ms/step - loss: 0.2268 - accuracy: 0.9128\n",
            "Epoch 193/200\n",
            "33/33 [==============================] - 1s 29ms/step - loss: 0.2254 - accuracy: 0.9137\n",
            "Epoch 194/200\n",
            "33/33 [==============================] - 0s 13ms/step - loss: 0.2267 - accuracy: 0.9081\n",
            "Epoch 195/200\n",
            "33/33 [==============================] - 0s 2ms/step - loss: 0.2265 - accuracy: 0.9071\n",
            "Epoch 196/200\n",
            "33/33 [==============================] - 0s 2ms/step - loss: 0.2278 - accuracy: 0.9109\n",
            "Epoch 197/200\n",
            "33/33 [==============================] - 0s 2ms/step - loss: 0.2238 - accuracy: 0.9109\n",
            "Epoch 198/200\n",
            "33/33 [==============================] - 0s 2ms/step - loss: 0.2268 - accuracy: 0.9090\n",
            "Epoch 199/200\n",
            "33/33 [==============================] - 0s 2ms/step - loss: 0.2241 - accuracy: 0.9109\n",
            "Epoch 200/200\n",
            "33/33 [==============================] - 0s 3ms/step - loss: 0.2259 - accuracy: 0.9052\n"
          ]
        }
      ]
    },
    {
      "cell_type": "code",
      "source": [
        "model3_eval=ann3.evaluate(X_test,y_test)"
      ],
      "metadata": {
        "colab": {
          "base_uri": "https://localhost:8080/"
        },
        "id": "WNsMcfREaa9V",
        "outputId": "dabcc8c7-e46f-4513-e245-530420f9db11"
      },
      "execution_count": 116,
      "outputs": [
        {
          "output_type": "stream",
          "name": "stdout",
          "text": [
            "9/9 [==============================] - 0s 37ms/step - loss: 0.3494 - accuracy: 0.8258\n"
          ]
        }
      ]
    },
    {
      "cell_type": "code",
      "source": [
        "model3_train=ann3.evaluate(X_train,y_train)"
      ],
      "metadata": {
        "colab": {
          "base_uri": "https://localhost:8080/"
        },
        "id": "YP6ZcY2HeeMs",
        "outputId": "97af9f72-e507-46ee-be22-a9295f2199c2"
      },
      "execution_count": 118,
      "outputs": [
        {
          "output_type": "stream",
          "name": "stdout",
          "text": [
            "33/33 [==============================] - 0s 4ms/step - loss: 0.2275 - accuracy: 0.8957\n"
          ]
        }
      ]
    },
    {
      "cell_type": "code",
      "source": [
        "pd.DataFrame(history3.history).plot()"
      ],
      "metadata": {
        "colab": {
          "base_uri": "https://localhost:8080/",
          "height": 447
        },
        "id": "T5LREb28bkSf",
        "outputId": "9be56cdf-7497-4750-c753-23cec925c271"
      },
      "execution_count": 119,
      "outputs": [
        {
          "output_type": "execute_result",
          "data": {
            "text/plain": [
              "<Axes: >"
            ]
          },
          "metadata": {},
          "execution_count": 119
        },
        {
          "output_type": "display_data",
          "data": {
            "text/plain": [
              "<Figure size 640x480 with 1 Axes>"
            ],
            "image/png": "[encoded data removed]"
          },
          "metadata": {}
        }
      ]
    },
    {
      "cell_type": "code",
      "source": [
        "y_pred3=ann3.predict(X_test)\n"
      ],
      "metadata": {
        "colab": {
          "base_uri": "https://localhost:8080/"
        },
        "id": "g4_4k_b-cXc_",
        "outputId": "053aa5ff-5417-4ea5-d802-a7c2c4e9a586"
      },
      "execution_count": 120,
      "outputs": [
        {
          "output_type": "stream",
          "name": "stdout",
          "text": [
            "9/9 [==============================] - 1s 62ms/step\n"
          ]
        }
      ]
    },
    {
      "cell_type": "code",
      "source": [
        "y_pred3=y_pred > 0.5"
      ],
      "metadata": {
        "id": "YhaNDwFee97J"
      },
      "execution_count": 122,
      "outputs": []
    },
    {
      "cell_type": "code",
      "source": [
        "from sklearn.metrics import confusion_matrix\n",
        "plt.figure(figsize=(10,7))\n",
        "sns.heatmap(confusion_matrix(y_test, y_pred3), annot=True, fmt='d', cmap='Blues')\n",
        "plt.xlabel('Predicted')\n",
        "plt.ylabel('Actual')\n",
        "plt.title('Confusion Matrix')\n",
        "plt.show()"
      ],
      "metadata": {
        "colab": {
          "base_uri": "https://localhost:8080/",
          "height": 641
        },
        "id": "CPHV6hFKceUU",
        "outputId": "0cdbcb70-5c34-46c5-8486-430ccf1a1b68"
      },
      "execution_count": 123,
      "outputs": [
        {
          "output_type": "display_data",
          "data": {
            "text/plain": [
              "<Figure size 1000x700 with 2 Axes>"
            ],
            "image/png": "[encoded data removed]"
          },
          "metadata": {}
        }
      ]
    },
    {
      "cell_type": "code",
      "source": [
        "model_result=[['model 1',model1_eval],     ##testing accuracy\n",
        "              ['model 2',model2_eval],\n",
        "              ['model 3',model3_eval]]"
      ],
      "metadata": {
        "id": "BhD_MAlTe7YT"
      },
      "execution_count": 125,
      "outputs": []
    },
    {
      "cell_type": "code",
      "source": [
        "model_result"
      ],
      "metadata": {
        "colab": {
          "base_uri": "https://localhost:8080/"
        },
        "id": "K2912yY-fNIH",
        "outputId": "367c3221-834e-45a2-e942-0729d58efcf7"
      },
      "execution_count": 126,
      "outputs": [
        {
          "output_type": "execute_result",
          "data": {
            "text/plain": [
              "[['model 1', [0.3578972816467285, 0.8030303120613098]],\n",
              " ['model 2', [0.36122941970825195, 0.8181818127632141]],\n",
              " ['model 3', [0.3494288921356201, 0.8257575631141663]]]"
            ]
          },
          "metadata": {},
          "execution_count": 126
        }
      ]
    },
    {
      "cell_type": "code",
      "source": [
        "model_train=[['model 1',model1_train],       ##training accuracy\n",
        "              ['model 2',model2_train],\n",
        "             ['model 3',model3_train]]"
      ],
      "metadata": {
        "id": "7G4r125KfPNu"
      },
      "execution_count": 127,
      "outputs": []
    },
    {
      "cell_type": "code",
      "source": [
        "model_train"
      ],
      "metadata": {
        "colab": {
          "base_uri": "https://localhost:8080/"
        },
        "id": "vAIavwJ3faqj",
        "outputId": "120df563-6a66-4f4f-ae5c-d29036413c56"
      },
      "execution_count": 128,
      "outputs": [
        {
          "output_type": "execute_result",
          "data": {
            "text/plain": [
              "[['model 1', [0.16361568868160248, 0.9421800971031189]],\n",
              " ['model 2', [0.28240394592285156, 0.8758293986320496]],\n",
              " ['model 3', [0.227522075176239, 0.8957346081733704]]]"
            ]
          },
          "metadata": {},
          "execution_count": 128
        }
      ]
    },
    {
      "cell_type": "code",
      "source": [],
      "metadata": {
        "id": "-S7QhazsfcCU"
      },
      "execution_count": null,
      "outputs": []
    },
    {
      "cell_type": "code",
      "source": [],
      "metadata": {
        "id": "7mua9GgTh10w"
      },
      "execution_count": null,
      "outputs": []
    },
    {
      "cell_type": "code",
      "source": [],
      "metadata": {
        "id": "IhIKQ_R2iS2_"
      },
      "execution_count": null,
      "outputs": []
    }
  ]
}